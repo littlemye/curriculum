{
  "nbformat": 4,
  "nbformat_minor": 0,
  "metadata": {
    "colab": {
      "provenance": [],
      "include_colab_link": true
    },
    "kernelspec": {
      "name": "python3",
      "display_name": "Python 3"
    },
    "language_info": {
      "name": "python"
    }
  },
  "cells": [
    {
      "cell_type": "markdown",
      "metadata": {
        "id": "view-in-github",
        "colab_type": "text"
      },
      "source": [
        "<a href=\"https://colab.research.google.com/github/littlemye/curriculum/blob/master/Java_04_Functions.ipynb\" target=\"_parent\"><img src=\"https://colab.research.google.com/assets/colab-badge.svg\" alt=\"Open In Colab\"/></a>"
      ]
    },
    {
      "cell_type": "markdown",
      "source": [
        "# Java Functions at Bob's Burgers Restaurant! 🍔\n",
        "**Brendan Shea, PhD**\n",
        "\n",
        "Bob's Burgers is a small family restaurant where amazing (and sometimes weird) burgers are made with love. Today, you'll help the Belcher family run their restaurant more efficiently using Java functions!\n",
        "\n",
        "#### Your Hosts Today:\n",
        "- **Bob Belcher**: The owner and chef who makes creative burgers\n",
        "- **Linda Belcher**: The enthusiastic wife who handles customers  \n",
        "- **Tina Belcher**: The oldest daughter who takes orders\n",
        "- **Gene Belcher**: The son who... makes sound effects\n",
        "- **Louise Belcher**: The youngest who's always scheming for profit\n",
        "\n",
        "#### The Restaurant Challenge:\n",
        "Running a restaurant means doing the same tasks over and over:\n",
        "- Calculating prices (with tax!)\n",
        "- Applying discounts\n",
        "- Taking multiple orders\n",
        "- Computing tips\n",
        "- Tracking daily profits\n"
      ],
      "metadata": {
        "id": "dwrupam9CF-U"
      }
    },
    {
      "cell_type": "markdown",
      "source": [
        "### Brendan's Lecture"
      ],
      "metadata": {
        "id": "J8SSSh7_zOyo"
      }
    },
    {
      "cell_type": "code",
      "source": [
        "from IPython.display import YouTubeVideo\n",
        "YouTubeVideo('uhaVMgurddw', width=800, height=500)"
      ],
      "metadata": {
        "id": "IW5367zyzR1M"
      },
      "execution_count": null,
      "outputs": []
    },
    {
      "cell_type": "code",
      "source": [
        "## @title\n",
        "%%html\n",
        "<img src=\"https://media0.giphy.com/media/v1.Y2lkPTc5MGI3NjExNjE5Y2M5ZDBzNXM0eGQ5Nmw3OGUzY2h3MGdlN2ZiZDVoYXJxZnIyNyZlcD12MV9pbnRlcm5hbF9naWZfYnlfaWQmY3Q9dg/W6pVoMqFFq4ROqYR2j/giphy.gif\">"
      ],
      "metadata": {
        "colab": {
          "base_uri": "https://localhost:8080/",
          "height": 502
        },
        "cellView": "form",
        "id": "QlCLbZBMt4Yk",
        "outputId": "e7b33080-9318-4789-de76-8eb4fb441de7"
      },
      "execution_count": null,
      "outputs": [
        {
          "output_type": "display_data",
          "data": {
            "text/plain": [
              "<IPython.core.display.HTML object>"
            ],
            "text/html": [
              "<img src=\"https://media0.giphy.com/media/v1.Y2lkPTc5MGI3NjExNjE5Y2M5ZDBzNXM0eGQ5Nmw3OGUzY2h3MGdlN2ZiZDVoYXJxZnIyNyZlcD12MV9pbnRlcm5hbF9naWZfYnlfaWQmY3Q9dg/W6pVoMqFFq4ROqYR2j/giphy.gif\">\n"
            ]
          },
          "metadata": {}
        }
      ]
    },
    {
      "cell_type": "markdown",
      "source": [
        "\n",
        "**The Problem**: Bob keeps writing the same calculations again and again in his code!\n",
        "\n",
        "```java\n",
        "public class BobsBurgers {\n",
        "    public static void main(String[] args) {\n",
        "        // Bob's current approach - SO MUCH REPETITION!\n",
        "        double burger1 = 8.99;\n",
        "        double burger1WithTax = burger1 * 1.08;\n",
        "        System.out.println(\"Burger 1 total: $\" + burger1WithTax);\n",
        "        \n",
        "        double burger2 = 9.99;\n",
        "        double burger2WithTax = burger2 * 1.08;  // Same calculation!\n",
        "        System.out.println(\"Burger 2 total: $\" + burger2WithTax);\n",
        "        \n",
        "        double burger3 = 7.99;\n",
        "        double burger3WithTax = burger3 * 1.08;  // Again!\n",
        "        System.out.println(\"Burger 3 total: $\" + burger3WithTax);\n",
        "    }\n",
        "}\n",
        "```\n",
        "\n",
        "**Today's Mission**: Learn to write functions so Bob can stop repeating himself!"
      ],
      "metadata": {
        "id": "HjMTzYsSukk6"
      }
    },
    {
      "cell_type": "markdown",
      "source": [
        "### Today's Learning Goals 🎯\n",
        "\n",
        "What You'll Learn to Help Bob's Burgers:\n",
        "\n",
        "#### 1. 📦 **What Functions Are**\n",
        "- Reusable blocks of code (like Bob's burger recipes!)\n",
        "- Write once, use many times\n",
        "- Make programs cleaner and shorter\n",
        "\n",
        "#### 2. 📥 **Function Parameters**\n",
        "- How to pass information INTO a function\n",
        "- Like telling Bob which burger to make\n",
        "- Example: `calculatePrice(8.99)`\n",
        "\n",
        "#### 3. 📤 **Return Values**\n",
        "- How to get information OUT of a function  \n",
        "- Like getting the final price back\n",
        "- Example: `double total = calculatePrice(8.99);`\n",
        "\n",
        "#### 4. 🔧 **Writing Your Own Functions**\n",
        "- Create functions to solve real problems\n",
        "- Debug broken functions\n",
        "- Combine functions for complex tasks\n",
        "\n",
        "#### 5. 🍔 **Real Restaurant Applications**\n",
        "You'll build functions to:\n",
        "- Calculate prices with tax\n",
        "- Apply customer discounts\n",
        "- Process multiple orders\n",
        "- Track daily profits\n",
        "- Generate creative burger names!\n",
        "\n",
        "#### By the End of This Lesson:\n",
        "```java\n",
        "public class BobsBurgers {\n",
        "    // You'll write functions like this!\n",
        "    public static double addTax(double price) {\n",
        "        return price * 1.08;\n",
        "    }\n",
        "    \n",
        "    public static void main(String[] args) {\n",
        "        // And use them like this - so much cleaner!\n",
        "        System.out.println(\"Burger 1: $\" + addTax(8.99));\n",
        "        System.out.println(\"Burger 2: $\" + addTax(9.99));\n",
        "        System.out.println(\"Burger 3: $\" + addTax(7.99));\n",
        "    }\n",
        "}\n",
        "```\n",
        "\n",
        "**Remember**: Functions are like kitchen tools - they make repetitive tasks easier!"
      ],
      "metadata": {
        "id": "PFn42xcKCIzy"
      }
    },
    {
      "cell_type": "markdown",
      "source": [
        "### What is a Function? 📋\n",
        "\n",
        "#### A Function is Like a Burger Recipe!\n",
        "\n",
        "Just like Bob has a recipe for making his burgers, a function is a recipe for your code to follow. You write it once, then use it whenever you need it!\n",
        "\n",
        "#### Real-World Example: Bob's Burger Recipe\n",
        "```\n",
        "Bob's Classic Burger Recipe:\n",
        "1. Take a bun\n",
        "2. Add a patty\n",
        "3. Add cheese\n",
        "4. Add lettuce and tomato\n",
        "5. Add special sauce\n",
        "6. Serve to customer\n",
        "```"
      ],
      "metadata": {
        "id": "bGkEZzIyC6LN"
      }
    },
    {
      "cell_type": "code",
      "source": [
        "%%writefile BobsBurgers.java\n",
        "public class BobsBurgers {\n",
        "    // This is a function - like a recipe!\n",
        "    public static void makeBurger() {\n",
        "        System.out.println(\"Take a bun\");\n",
        "        System.out.println(\"Add a patty\");\n",
        "        System.out.println(\"Add cheese\");\n",
        "        System.out.println(\"Add lettuce and tomato\");\n",
        "        System.out.println(\"Add special sauce\");\n",
        "        System.out.println(\"Serve to customer\");\n",
        "    }\n",
        "\n",
        "    public static void main(String[] args) {\n",
        "        // Using the function is like following the recipe\n",
        "        System.out.println(\"Order 1:\");\n",
        "        makeBurger();  // Make first burger\n",
        "\n",
        "        System.out.println(\"\\nOrder 2:\");\n",
        "        makeBurger();  // Make second burger - same recipe!\n",
        "\n",
        "        System.out.println(\"\\nOrder 3:\");\n",
        "        makeBurger();  // Make third burger - still same recipe!\n",
        "    }\n",
        "}\n"
      ],
      "metadata": {
        "colab": {
          "base_uri": "https://localhost:8080/"
        },
        "id": "2RNnnlTcDDxr",
        "outputId": "d72054b1-9456-4106-d6e2-7d43cb2f562f"
      },
      "execution_count": null,
      "outputs": [
        {
          "output_type": "stream",
          "name": "stdout",
          "text": [
            "Writing BobsBurgers.java\n"
          ]
        }
      ]
    },
    {
      "cell_type": "code",
      "source": [
        "!javac BobsBurgers.java\n",
        "!java BobsBurgers"
      ],
      "metadata": {
        "colab": {
          "base_uri": "https://localhost:8080/"
        },
        "id": "XTgvoMG5DJbA",
        "outputId": "e3ba61cf-e6c2-49be-aee5-a70934ca3c63"
      },
      "execution_count": null,
      "outputs": [
        {
          "output_type": "stream",
          "name": "stdout",
          "text": [
            "Order 1:\n",
            "Take a bun\n",
            "Add a patty\n",
            "Add cheese\n",
            "Add lettuce and tomato\n",
            "Add special sauce\n",
            "Serve to customer\n",
            "\n",
            "Order 2:\n",
            "Take a bun\n",
            "Add a patty\n",
            "Add cheese\n",
            "Add lettuce and tomato\n",
            "Add special sauce\n",
            "Serve to customer\n",
            "\n",
            "Order 3:\n",
            "Take a bun\n",
            "Add a patty\n",
            "Add cheese\n",
            "Add lettuce and tomato\n",
            "Add special sauce\n",
            "Serve to customer\n"
          ]
        }
      ]
    },
    {
      "cell_type": "markdown",
      "source": [
        "\n",
        "#### Key Points:\n",
        "- 📝 **Define once**: Write the function one time\n",
        "- 🔄 **Use many times**: Call it whenever needed\n",
        "- 📦 **Stays organized**: All steps grouped together\n",
        "- 🎯 **Consistent results**: Same steps every time\n",
        "\n",
        "**Think of it this way**: Instead of writing all the burger steps three times, Bob just says \"make a burger\" and follows his recipe!"
      ],
      "metadata": {
        "id": "4JLoxoSgDAFc"
      }
    },
    {
      "cell_type": "markdown",
      "source": [
        "### Anatomy of a Simple Function 🔬\n",
        "\n",
        "Let's dissect a function like Bob dissects his burger ingredients!\n",
        "\n",
        "```java\n",
        "public static double calculateTotal(double price) {\n",
        "    double tax = price * 0.08;\n",
        "    return price + tax;\n",
        "}\n",
        "```\n",
        "\n",
        "Now, let's break it apart:\n",
        "\n",
        "```java\n",
        "public static double calculateTotal(double price) {\n",
        "//  ↑      ↑     ↑         ↑            ↑\n",
        "//  |      |     |         |            |\n",
        "//  |      |     |         |            └── PARAMETER (Input)\n",
        "//  |      |     |         |                 What info comes IN\n",
        "//  |      |     |         |\n",
        "//  |      |     |         └── FUNCTION NAME\n",
        "//  |      |     |             What you call it\n",
        "//  |      |     |\n",
        "//  |      |     └── RETURN TYPE\n",
        "//  |      |         What type of data comes OUT\n",
        "//  |      |\n",
        "//  |      └── Required keyword (always use for now)\n",
        "//  |\n",
        "//  └── Required keyword (always use for now)\n",
        "\n",
        "    double tax = price * 0.08;    // Function BODY\n",
        "    return price + tax;           // RETURN statement\n",
        "}\n",
        "```\n",
        "\n",
        "Here's what we have:\n",
        "\n",
        "1. **🏷️ Function Name**: `calculateTotal`\n",
        "   - Choose a name that describes what it does\n",
        "   - Like naming a burger: \"The Price Calculator\"\n",
        "\n",
        "2. **📥 Parameter**: `(double price)`\n",
        "   - Information that goes IN\n",
        "   - Like ingredients Bob needs for a burger\n",
        "\n",
        "3. **📤 Return Type**: `double`\n",
        "   - What type of information comes OUT\n",
        "   - Like the finished burger Bob hands you\n",
        "\n",
        "4. **📝 Function Body**: The code between `{ }`\n",
        "   - The actual steps/recipe\n",
        "   - What happens to transform input to output\n",
        "\n",
        "5. **➡️ Return Statement**: `return price + tax;`\n",
        "   - Sends the result back\n",
        "   - Like Bob saying \"Order up!\"\n",
        "\n",
        "#### Remember:\n",
        "- **public static**: Always include these keywords (for now)\n",
        "- **Choose good names**: `calculateTotal` is better than `doStuff`\n",
        "- **Match types**: If you promise to return a `double`, you must return a `double`!"
      ],
      "metadata": {
        "id": "omxLZ9NCDbHa"
      }
    },
    {
      "cell_type": "code",
      "source": [
        "# @title\n",
        "%%html\n",
        "<svg width=\"500\" height=\"300\" xmlns=\"http://www.w3.org/2000/svg\">\n",
        "  <style>\n",
        "    .title { font-family: Arial, sans-serif; font-size: 18px; font-weight: bold; fill: #333; }\n",
        "    .subtitle { font-family: Arial, sans-serif; font-size: 14px; font-weight: bold; fill: #555; }\n",
        "    .label { font-family: Arial, sans-serif; font-size: 12px; fill: #333; }\n",
        "    .code { font-family: 'Courier New', monospace; font-size: 12px; fill: #000; }\n",
        "    .function-box { fill: #e8f4fd; stroke: #2196f3; stroke-width: 3; }\n",
        "    .input-box { fill: #fff3e0; stroke: #ff9800; stroke-width: 2; }\n",
        "    .output-box { fill: #e8f5e8; stroke: #4caf50; stroke-width: 2; }\n",
        "    .arrow { stroke: #666; stroke-width: 3; fill: none; marker-end: url(#arrowhead); }\n",
        "    .process-text { fill: #2196f3; font-family: Arial, sans-serif; font-size: 11px; }\n",
        "  </style>\n",
        "\n",
        "  <defs>\n",
        "    <marker id=\"arrowhead\" markerWidth=\"10\" markerHeight=\"7\" refX=\"9\" refY=\"3.5\" orient=\"auto\">\n",
        "      <polygon points=\"0 0, 10 3.5, 0 7\" fill=\"#666\" />\n",
        "    </marker>\n",
        "  </defs>\n",
        "\n",
        "  <text x=\"250\" y=\"25\" class=\"title\" text-anchor=\"middle\">Function as a Processing Machine</text>\n",
        "\n",
        "  <!-- Input -->\n",
        "  <rect x=\"50\" y=\"80\" width=\"80\" height=\"50\" class=\"input-box\" rx=\"5\"/>\n",
        "  <text x=\"90\" y=\"95\" class=\"subtitle\" text-anchor=\"middle\">INPUT</text>\n",
        "  <text x=\"90\" y=\"110\" class=\"label\" text-anchor=\"middle\">(Parameter)</text>\n",
        "  <text x=\"90\" y=\"125\" class=\"code\" text-anchor=\"middle\">10</text>\n",
        "\n",
        "  <!-- Function Box -->\n",
        "  <rect x=\"200\" y=\"70\" width=\"140\" height=\"70\" class=\"function-box\" rx=\"10\"/>\n",
        "  <text x=\"270\" y=\"90\" class=\"subtitle\" text-anchor=\"middle\">FUNCTION</text>\n",
        "  <text x=\"270\" y=\"105\" class=\"code\" text-anchor=\"middle\">double(x)</text>\n",
        "  <text x=\"270\" y=\"120\" class=\"process-text\" text-anchor=\"middle\">x × 2</text>\n",
        "  <text x=\"270\" y=\"135\" class=\"label\" text-anchor=\"middle\">\"Double the input\"</text>\n",
        "\n",
        "  <!-- Output -->\n",
        "  <rect x=\"380\" y=\"80\" width=\"80\" height=\"50\" class=\"output-box\" rx=\"5\"/>\n",
        "  <text x=\"420\" y=\"95\" class=\"subtitle\" text-anchor=\"middle\">OUTPUT</text>\n",
        "  <text x=\"420\" y=\"110\" class=\"label\" text-anchor=\"middle\">(Return Value)</text>\n",
        "  <text x=\"420\" y=\"125\" class=\"code\" text-anchor=\"middle\">20</text>\n",
        "\n",
        "  <!-- Arrows -->\n",
        "  <line x1=\"130\" y1=\"105\" x2=\"195\" y2=\"105\" class=\"arrow\"/>\n",
        "  <line x1=\"345\" y1=\"105\" x2=\"375\" y2=\"105\" class=\"arrow\"/>\n",
        "\n",
        "  <!-- Function call example -->\n",
        "  <text x=\"250\" y=\"180\" class=\"subtitle\" text-anchor=\"middle\">Function Call:</text>\n",
        "  <text x=\"250\" y=\"200\" class=\"code\" text-anchor=\"middle\">int result = double(10);</text>\n",
        "  <text x=\"250\" y=\"215\" class=\"label\" text-anchor=\"middle\">result gets the value 20</text>\n",
        "\n",
        "  <!-- Key concept -->\n",
        "  <text x=\"250\" y=\"250\" class=\"label\" text-anchor=\"middle\">Same function works with ANY input!</text>\n",
        "  <text x=\"250\" y=\"270\" class=\"code\" text-anchor=\"middle\">double(5) → 10    double(100) → 200</text>\n",
        "</svg>"
      ],
      "metadata": {
        "cellView": "form",
        "id": "auStwb7y3Stf",
        "outputId": "eb51e02b-fabd-404d-a510-12d458e1c050",
        "colab": {
          "base_uri": "https://localhost:8080/",
          "height": 322
        }
      },
      "execution_count": null,
      "outputs": [
        {
          "output_type": "display_data",
          "data": {
            "text/plain": [
              "<IPython.core.display.HTML object>"
            ],
            "text/html": [
              "<svg width=\"500\" height=\"300\" xmlns=\"http://www.w3.org/2000/svg\">\n",
              "  <style>\n",
              "    .title { font-family: Arial, sans-serif; font-size: 18px; font-weight: bold; fill: #333; }\n",
              "    .subtitle { font-family: Arial, sans-serif; font-size: 14px; font-weight: bold; fill: #555; }\n",
              "    .label { font-family: Arial, sans-serif; font-size: 12px; fill: #333; }\n",
              "    .code { font-family: 'Courier New', monospace; font-size: 12px; fill: #000; }\n",
              "    .function-box { fill: #e8f4fd; stroke: #2196f3; stroke-width: 3; }\n",
              "    .input-box { fill: #fff3e0; stroke: #ff9800; stroke-width: 2; }\n",
              "    .output-box { fill: #e8f5e8; stroke: #4caf50; stroke-width: 2; }\n",
              "    .arrow { stroke: #666; stroke-width: 3; fill: none; marker-end: url(#arrowhead); }\n",
              "    .process-text { fill: #2196f3; font-family: Arial, sans-serif; font-size: 11px; }\n",
              "  </style>\n",
              "  \n",
              "  <defs>\n",
              "    <marker id=\"arrowhead\" markerWidth=\"10\" markerHeight=\"7\" refX=\"9\" refY=\"3.5\" orient=\"auto\">\n",
              "      <polygon points=\"0 0, 10 3.5, 0 7\" fill=\"#666\" />\n",
              "    </marker>\n",
              "  </defs>\n",
              "  \n",
              "  <text x=\"250\" y=\"25\" class=\"title\" text-anchor=\"middle\">Function as a Processing Machine</text>\n",
              "  \n",
              "  <!-- Input -->\n",
              "  <rect x=\"50\" y=\"80\" width=\"80\" height=\"50\" class=\"input-box\" rx=\"5\"/>\n",
              "  <text x=\"90\" y=\"95\" class=\"subtitle\" text-anchor=\"middle\">INPUT</text>\n",
              "  <text x=\"90\" y=\"110\" class=\"label\" text-anchor=\"middle\">(Parameter)</text>\n",
              "  <text x=\"90\" y=\"125\" class=\"code\" text-anchor=\"middle\">10</text>\n",
              "  \n",
              "  <!-- Function Box -->\n",
              "  <rect x=\"200\" y=\"70\" width=\"140\" height=\"70\" class=\"function-box\" rx=\"10\"/>\n",
              "  <text x=\"270\" y=\"90\" class=\"subtitle\" text-anchor=\"middle\">FUNCTION</text>\n",
              "  <text x=\"270\" y=\"105\" class=\"code\" text-anchor=\"middle\">double(x)</text>\n",
              "  <text x=\"270\" y=\"120\" class=\"process-text\" text-anchor=\"middle\">x × 2</text>\n",
              "  <text x=\"270\" y=\"135\" class=\"label\" text-anchor=\"middle\">\"Double the input\"</text>\n",
              "  \n",
              "  <!-- Output -->\n",
              "  <rect x=\"380\" y=\"80\" width=\"80\" height=\"50\" class=\"output-box\" rx=\"5\"/>\n",
              "  <text x=\"420\" y=\"95\" class=\"subtitle\" text-anchor=\"middle\">OUTPUT</text>\n",
              "  <text x=\"420\" y=\"110\" class=\"label\" text-anchor=\"middle\">(Return Value)</text>\n",
              "  <text x=\"420\" y=\"125\" class=\"code\" text-anchor=\"middle\">20</text>\n",
              "  \n",
              "  <!-- Arrows -->\n",
              "  <line x1=\"130\" y1=\"105\" x2=\"195\" y2=\"105\" class=\"arrow\"/>\n",
              "  <line x1=\"345\" y1=\"105\" x2=\"375\" y2=\"105\" class=\"arrow\"/>\n",
              "  \n",
              "  <!-- Function call example -->\n",
              "  <text x=\"250\" y=\"180\" class=\"subtitle\" text-anchor=\"middle\">Function Call:</text>\n",
              "  <text x=\"250\" y=\"200\" class=\"code\" text-anchor=\"middle\">int result = double(10);</text>\n",
              "  <text x=\"250\" y=\"215\" class=\"label\" text-anchor=\"middle\">result gets the value 20</text>\n",
              "  \n",
              "  <!-- Key concept -->\n",
              "  <text x=\"250\" y=\"250\" class=\"label\" text-anchor=\"middle\">Same function works with ANY input!</text>\n",
              "  <text x=\"250\" y=\"270\" class=\"code\" text-anchor=\"middle\">double(5) → 10    double(100) → 200</text>\n",
              "</svg>\n"
            ]
          },
          "metadata": {}
        }
      ]
    },
    {
      "cell_type": "code",
      "source": [
        "# @title\n",
        "%%html\n",
        "<svg width=\"500\" height=\"350\" xmlns=\"http://www.w3.org/2000/svg\">\n",
        "  <style>\n",
        "    .title { font-family: Arial, sans-serif; font-size: 18px; font-weight: bold; fill: #333; }\n",
        "    .subtitle { font-family: Arial, sans-serif; font-size: 14px; font-weight: bold; fill: #555; }\n",
        "    .label { font-family: Arial, sans-serif; font-size: 12px; fill: #333; }\n",
        "    .code { font-family: 'Courier New', monospace; font-size: 12px; fill: #000; }\n",
        "    .function-box { fill: #e8f4fd; stroke: #2196f3; stroke-width: 3; }\n",
        "    .input-box { fill: #fff3e0; stroke: #ff9800; stroke-width: 2; }\n",
        "    .output-box { fill: #e8f5e8; stroke: #4caf50; stroke-width: 2; }\n",
        "    .arrow { stroke: #666; stroke-width: 2; fill: none; marker-end: url(#arrowhead); }\n",
        "  </style>\n",
        "\n",
        "  <defs>\n",
        "    <marker id=\"arrowhead\" markerWidth=\"8\" markerHeight=\"6\" refX=\"7\" refY=\"3\" orient=\"auto\">\n",
        "      <polygon points=\"0 0, 8 3, 0 6\" fill=\"#666\" />\n",
        "    </marker>\n",
        "  </defs>\n",
        "\n",
        "  <text x=\"250\" y=\"25\" class=\"title\" text-anchor=\"middle\">One Function, Multiple Uses</text>\n",
        "\n",
        "  <!-- Multiple inputs on left -->\n",
        "  <rect x=\"30\" y=\"60\" width=\"60\" height=\"35\" class=\"input-box\" rx=\"3\"/>\n",
        "  <text x=\"60\" y=\"75\" class=\"code\" text-anchor=\"middle\">5</text>\n",
        "  <text x=\"60\" y=\"88\" class=\"label\" text-anchor=\"middle\">price</text>\n",
        "\n",
        "  <rect x=\"30\" y=\"120\" width=\"60\" height=\"35\" class=\"input-box\" rx=\"3\"/>\n",
        "  <text x=\"60\" y=\"135\" class=\"code\" text-anchor=\"middle\">10</text>\n",
        "  <text x=\"60\" y=\"148\" class=\"label\" text-anchor=\"middle\">price</text>\n",
        "\n",
        "  <rect x=\"30\" y=\"180\" width=\"60\" height=\"35\" class=\"input-box\" rx=\"3\"/>\n",
        "  <text x=\"60\" y=\"195\" class=\"code\" text-anchor=\"middle\">20</text>\n",
        "  <text x=\"60\" y=\"208\" class=\"label\" text-anchor=\"middle\">price</text>\n",
        "\n",
        "  <!-- Central function -->\n",
        "  <rect x=\"170\" y=\"110\" width=\"120\" height=\"70\" class=\"function-box\" rx=\"8\"/>\n",
        "  <text x=\"230\" y=\"130\" class=\"subtitle\" text-anchor=\"middle\">addTax(price)</text>\n",
        "  <text x=\"230\" y=\"145\" class=\"code\" text-anchor=\"middle\">return price + 1</text>\n",
        "  <text x=\"230\" y=\"160\" class=\"label\" text-anchor=\"middle\">Add $1 tax</text>\n",
        "  <text x=\"230\" y=\"175\" class=\"label\" text-anchor=\"middle\">Same process!</text>\n",
        "\n",
        "  <!-- Multiple outputs on right -->\n",
        "  <rect x=\"350\" y=\"60\" width=\"60\" height=\"35\" class=\"output-box\" rx=\"3\"/>\n",
        "  <text x=\"380\" y=\"75\" class=\"code\" text-anchor=\"middle\">6</text>\n",
        "  <text x=\"380\" y=\"88\" class=\"label\" text-anchor=\"middle\">total</text>\n",
        "\n",
        "  <rect x=\"350\" y=\"120\" width=\"60\" height=\"35\" class=\"output-box\" rx=\"3\"/>\n",
        "  <text x=\"380\" y=\"135\" class=\"code\" text-anchor=\"middle\">11</text>\n",
        "  <text x=\"380\" y=\"148\" class=\"label\" text-anchor=\"middle\">total</text>\n",
        "\n",
        "  <rect x=\"350\" y=\"180\" width=\"60\" height=\"35\" class=\"output-box\" rx=\"3\"/>\n",
        "  <text x=\"380\" y=\"195\" class=\"code\" text-anchor=\"middle\">21</text>\n",
        "  <text x=\"380\" y=\"208\" class=\"label\" text-anchor=\"middle\">total</text>\n",
        "\n",
        "  <!-- Arrows from inputs to function -->\n",
        "  <line x1=\"90\" y1=\"77\" x2=\"165\" y2=\"130\" class=\"arrow\"/>\n",
        "  <line x1=\"90\" y1=\"137\" x2=\"165\" y2=\"145\" class=\"arrow\"/>\n",
        "  <line x1=\"90\" y1=\"197\" x2=\"165\" y2=\"160\" class=\"arrow\"/>\n",
        "\n",
        "  <!-- Arrows from function to outputs -->\n",
        "  <line x1=\"295\" y1=\"130\" x2=\"345\" y2=\"77\" class=\"arrow\"/>\n",
        "  <line x1=\"295\" y1=\"145\" x2=\"345\" y2=\"137\" class=\"arrow\"/>\n",
        "  <line x1=\"295\" y1=\"160\" x2=\"345\" y2=\"197\" class=\"arrow\"/>\n",
        "\n",
        "  <!-- Function calls -->\n",
        "  <text x=\"250\" y=\"250\" class=\"subtitle\" text-anchor=\"middle\">Function Calls:</text>\n",
        "  <text x=\"250\" y=\"270\" class=\"code\" text-anchor=\"middle\">addTax(5) → 6</text>\n",
        "  <text x=\"250\" y=\"285\" class=\"code\" text-anchor=\"middle\">addTax(10) → 11</text>\n",
        "  <text x=\"250\" y=\"300\" class=\"code\" text-anchor=\"middle\">addTax(20) → 21</text>\n",
        "\n",
        "  <!-- Benefits -->\n",
        "  <text x=\"250\" y=\"330\" class=\"label\" text-anchor=\"middle\">Write once, use many times!</text>\n",
        "</svg>"
      ],
      "metadata": {
        "cellView": "form",
        "id": "0jpwgvlq3a3Z",
        "outputId": "06968e64-b585-46ee-dbb7-a6290dfce89d",
        "colab": {
          "base_uri": "https://localhost:8080/",
          "height": 372
        }
      },
      "execution_count": null,
      "outputs": [
        {
          "output_type": "display_data",
          "data": {
            "text/plain": [
              "<IPython.core.display.HTML object>"
            ],
            "text/html": [
              "<svg width=\"500\" height=\"350\" xmlns=\"http://www.w3.org/2000/svg\">\n",
              "  <style>\n",
              "    .title { font-family: Arial, sans-serif; font-size: 18px; font-weight: bold; fill: #333; }\n",
              "    .subtitle { font-family: Arial, sans-serif; font-size: 14px; font-weight: bold; fill: #555; }\n",
              "    .label { font-family: Arial, sans-serif; font-size: 12px; fill: #333; }\n",
              "    .code { font-family: 'Courier New', monospace; font-size: 12px; fill: #000; }\n",
              "    .function-box { fill: #e8f4fd; stroke: #2196f3; stroke-width: 3; }\n",
              "    .input-box { fill: #fff3e0; stroke: #ff9800; stroke-width: 2; }\n",
              "    .output-box { fill: #e8f5e8; stroke: #4caf50; stroke-width: 2; }\n",
              "    .arrow { stroke: #666; stroke-width: 2; fill: none; marker-end: url(#arrowhead); }\n",
              "  </style>\n",
              "  \n",
              "  <defs>\n",
              "    <marker id=\"arrowhead\" markerWidth=\"8\" markerHeight=\"6\" refX=\"7\" refY=\"3\" orient=\"auto\">\n",
              "      <polygon points=\"0 0, 8 3, 0 6\" fill=\"#666\" />\n",
              "    </marker>\n",
              "  </defs>\n",
              "  \n",
              "  <text x=\"250\" y=\"25\" class=\"title\" text-anchor=\"middle\">One Function, Multiple Uses</text>\n",
              "  \n",
              "  <!-- Multiple inputs on left -->\n",
              "  <rect x=\"30\" y=\"60\" width=\"60\" height=\"35\" class=\"input-box\" rx=\"3\"/>\n",
              "  <text x=\"60\" y=\"75\" class=\"code\" text-anchor=\"middle\">5</text>\n",
              "  <text x=\"60\" y=\"88\" class=\"label\" text-anchor=\"middle\">price</text>\n",
              "  \n",
              "  <rect x=\"30\" y=\"120\" width=\"60\" height=\"35\" class=\"input-box\" rx=\"3\"/>\n",
              "  <text x=\"60\" y=\"135\" class=\"code\" text-anchor=\"middle\">10</text>\n",
              "  <text x=\"60\" y=\"148\" class=\"label\" text-anchor=\"middle\">price</text>\n",
              "  \n",
              "  <rect x=\"30\" y=\"180\" width=\"60\" height=\"35\" class=\"input-box\" rx=\"3\"/>\n",
              "  <text x=\"60\" y=\"195\" class=\"code\" text-anchor=\"middle\">20</text>\n",
              "  <text x=\"60\" y=\"208\" class=\"label\" text-anchor=\"middle\">price</text>\n",
              "  \n",
              "  <!-- Central function -->\n",
              "  <rect x=\"170\" y=\"110\" width=\"120\" height=\"70\" class=\"function-box\" rx=\"8\"/>\n",
              "  <text x=\"230\" y=\"130\" class=\"subtitle\" text-anchor=\"middle\">addTax(price)</text>\n",
              "  <text x=\"230\" y=\"145\" class=\"code\" text-anchor=\"middle\">return price + 1</text>\n",
              "  <text x=\"230\" y=\"160\" class=\"label\" text-anchor=\"middle\">Add $1 tax</text>\n",
              "  <text x=\"230\" y=\"175\" class=\"label\" text-anchor=\"middle\">Same process!</text>\n",
              "  \n",
              "  <!-- Multiple outputs on right -->\n",
              "  <rect x=\"350\" y=\"60\" width=\"60\" height=\"35\" class=\"output-box\" rx=\"3\"/>\n",
              "  <text x=\"380\" y=\"75\" class=\"code\" text-anchor=\"middle\">6</text>\n",
              "  <text x=\"380\" y=\"88\" class=\"label\" text-anchor=\"middle\">total</text>\n",
              "  \n",
              "  <rect x=\"350\" y=\"120\" width=\"60\" height=\"35\" class=\"output-box\" rx=\"3\"/>\n",
              "  <text x=\"380\" y=\"135\" class=\"code\" text-anchor=\"middle\">11</text>\n",
              "  <text x=\"380\" y=\"148\" class=\"label\" text-anchor=\"middle\">total</text>\n",
              "  \n",
              "  <rect x=\"350\" y=\"180\" width=\"60\" height=\"35\" class=\"output-box\" rx=\"3\"/>\n",
              "  <text x=\"380\" y=\"195\" class=\"code\" text-anchor=\"middle\">21</text>\n",
              "  <text x=\"380\" y=\"208\" class=\"label\" text-anchor=\"middle\">total</text>\n",
              "  \n",
              "  <!-- Arrows from inputs to function -->\n",
              "  <line x1=\"90\" y1=\"77\" x2=\"165\" y2=\"130\" class=\"arrow\"/>\n",
              "  <line x1=\"90\" y1=\"137\" x2=\"165\" y2=\"145\" class=\"arrow\"/>\n",
              "  <line x1=\"90\" y1=\"197\" x2=\"165\" y2=\"160\" class=\"arrow\"/>\n",
              "  \n",
              "  <!-- Arrows from function to outputs -->\n",
              "  <line x1=\"295\" y1=\"130\" x2=\"345\" y2=\"77\" class=\"arrow\"/>\n",
              "  <line x1=\"295\" y1=\"145\" x2=\"345\" y2=\"137\" class=\"arrow\"/>\n",
              "  <line x1=\"295\" y1=\"160\" x2=\"345\" y2=\"197\" class=\"arrow\"/>\n",
              "  \n",
              "  <!-- Function calls -->\n",
              "  <text x=\"250\" y=\"250\" class=\"subtitle\" text-anchor=\"middle\">Function Calls:</text>\n",
              "  <text x=\"250\" y=\"270\" class=\"code\" text-anchor=\"middle\">addTax(5) → 6</text>\n",
              "  <text x=\"250\" y=\"285\" class=\"code\" text-anchor=\"middle\">addTax(10) → 11</text>\n",
              "  <text x=\"250\" y=\"300\" class=\"code\" text-anchor=\"middle\">addTax(20) → 21</text>\n",
              "  \n",
              "  <!-- Benefits -->\n",
              "  <text x=\"250\" y=\"330\" class=\"label\" text-anchor=\"middle\">Write once, use many times!</text>\n",
              "</svg>\n"
            ]
          },
          "metadata": {}
        }
      ]
    },
    {
      "cell_type": "markdown",
      "source": [
        "## Another Function: Calculate Burger Price 💰\n",
        "\n",
        "Let's write our a slightly more complex function to help Bob calculate burger prices with tax!\n",
        "\n",
        "#### Step 1: Write the Function\n",
        "```java\n",
        "public class BurgerPriceCalculator {\n",
        "    // Our first function! Takes a price, returns price + tax\n",
        "    public static double addTax(double basePrice) {\n",
        "        double taxAmount = basePrice * 0.08;  // 8% tax\n",
        "        double totalPrice = basePrice + taxAmount;\n",
        "        return totalPrice;\n",
        "    }\n",
        "    \n",
        "    public static void main(String[] args) {\n",
        "        // We'll use it here...\n",
        "    }\n",
        "}\n",
        "```\n",
        "\n",
        "#### Step 2: Use the Function\n",
        "```java\n",
        "    public static void main(String[] args) {\n",
        "        // Bob's menu items\n",
        "        double classicBurger = 8.99;\n",
        "        double cheeseBurger = 9.99;\n",
        "        double baconBurger = 10.99;\n",
        "        \n",
        "        // Calculate totals using our function!\n",
        "        double classicTotal = addTax(classicBurger);\n",
        "        double cheeseTotal = addTax(cheeseBurger);\n",
        "        double baconTotal = addTax(baconBurger);\n",
        "    }\n",
        "```\n",
        "\n",
        "\n",
        "#### Key Takeaways:\n",
        "- ✅ Function goes OUTSIDE main but INSIDE the class\n",
        "- ✅ We can call it multiple times with different values\n",
        "- ✅ Each call can use a different price\n",
        "- ✅ The result can be stored in a variable\n",
        "- ✅ Makes the code in main much cleaner!\n",
        "\n",
        "**Try it yourself**: What happens if you change the tax rate to 0.10 (10%)? You only need to change it in ONE place!"
      ],
      "metadata": {
        "id": "_zxdy0H7DhJg"
      }
    },
    {
      "cell_type": "markdown",
      "source": [
        "## Functions with Parameters: Passing Information INTO Your Function 📥\n",
        "\n",
        "So far, our functions have been like Bob making the same burger every time. But real functions need to be flexible - they should work with different inputs to produce different outputs. That's where parameters come in.\n",
        "\n",
        "### What Are Parameters?\n",
        "\n",
        "**Parameters** are variables that receive information when a function is called. They're like placeholders that get filled with actual values. Think of them as the \"ingredients list\" in a recipe - they tell the function what it needs to work with.\n",
        "\n",
        "**Arguments** are the actual values you pass to the function when you call it. If parameters are the ingredient list, arguments are the actual ingredients you provide.\n",
        "\n",
        "Here's the difference:\n",
        "\n",
        "```java\n",
        "// Parameter: 'name' is a placeholder that can receive any String\n",
        "public static void greetCustomer(String name) {\n",
        "    System.out.println(\"Welcome to Bob's, \" + name + \"!\");\n",
        "}\n",
        "\n",
        "// Arguments: \"Teddy\" and \"Linda\" are actual values being passed\n",
        "greetCustomer(\"Teddy\");    // \"Teddy\" is an argument\n",
        "greetCustomer(\"Linda\");    // \"Linda\" is an argument\n",
        "```\n",
        "\n",
        "### Why Parameters Make Functions Powerful\n",
        "\n",
        "Without parameters, functions can only do one specific thing:\n",
        "\n",
        "```java\n",
        "public static void makePlainBurger() {\n",
        "    System.out.println(\"Making a plain burger\");\n",
        "}\n",
        "```\n",
        "\n",
        "This function always makes the same burger. It's not very useful for a restaurant with different orders!\n",
        "\n",
        "With parameters, the same function can handle many different situations:\n",
        "\n",
        "```java\n",
        "public static void makeCustomBurger(String type, int patties) {\n",
        "    System.out.println(\"Making a \" + type + \" burger\");\n",
        "    System.out.println(\"Number of patties: \" + patties);\n",
        "}\n",
        "```\n",
        "\n",
        "Now one function can make any type of burger with any number of patties.\n",
        "\n",
        "### Simple Parameter Examples\n",
        "\n",
        "Let's start with functions that take one parameter:\n",
        "\n",
        "```java\n",
        "// Takes one String parameter\n",
        "public static void sayHello(String name) {\n",
        "    System.out.println(\"Hello, \" + name + \"!\");\n",
        "}\n",
        "\n",
        "// Takes one int parameter  \n",
        "public static double calculateTax(double price) {\n",
        "    return price * 0.08;\n",
        "}\n",
        "\n",
        "// Takes one boolean parameter\n",
        "public static void setOpenSign(boolean isOpen) {\n",
        "    if (isOpen) {\n",
        "        System.out.println(\"We're OPEN!\");\n",
        "    } else {\n",
        "        System.out.println(\"Sorry, we're CLOSED\");\n",
        "    }\n",
        "}\n",
        "```\n",
        "\n",
        "## Multiple Parameters\n",
        "\n",
        "Functions can take multiple parameters to handle more complex situations:\n",
        "\n",
        "```java\n",
        "// Two parameters of different types\n",
        "public static double calculateTotal(double price, double taxRate) {\n",
        "    return price + (price * taxRate);\n",
        "}\n",
        "\n",
        "// Three parameters\n",
        "public static void processOrder(String item, int quantity, boolean isDelivery) {\n",
        "    System.out.println(\"Order: \" + quantity + \" \" + item + \"(s)\");\n",
        "    if (isDelivery) {\n",
        "        System.out.println(\"Pack for takeout\");\n",
        "    } else {\n",
        "        System.out.println(\"Serve on plates\");\n",
        "    }\n",
        "}\n",
        "```"
      ],
      "metadata": {
        "id": "CHDGIW4wFjY2"
      }
    },
    {
      "cell_type": "markdown",
      "source": [
        "Here's a longer, runnable example:"
      ],
      "metadata": {
        "id": "SxtfGi8gzXQX"
      }
    },
    {
      "cell_type": "code",
      "source": [
        "%%writefile BurgerOrder.java\n",
        "public class BurgerOrder {\n",
        "    // No parameters = Same burger every time (boring!)\n",
        "    public static void makePlainBurger() {\n",
        "        System.out.println(\"Making a plain burger\");\n",
        "    }\n",
        "\n",
        "    // With parameters = Customized burgers!\n",
        "    public static void makeCustomBurger(String type, int patties) {\n",
        "        System.out.println(\"Making a \" + type + \" burger\");\n",
        "        System.out.println(\"Number of patties: \" + patties);\n",
        "    }\n",
        "\n",
        "    public static void main(String[] args) {\n",
        "        // Without parameters - always the same\n",
        "        makePlainBurger();\n",
        "        makePlainBurger();  // Identical burger\n",
        "\n",
        "        System.out.println();\n",
        "\n",
        "        // With parameters - each one different!\n",
        "        makeCustomBurger(\"cheese\", 1);\n",
        "        makeCustomBurger(\"bacon deluxe\", 2);\n",
        "        makeCustomBurger(\"veggie\", 1);\n",
        "    }\n",
        "}\n"
      ],
      "metadata": {
        "colab": {
          "base_uri": "https://localhost:8080/"
        },
        "id": "MKm0q93ZGbdy",
        "outputId": "f1aac7b6-6306-496f-e198-8b3f6d6a15e2"
      },
      "execution_count": null,
      "outputs": [
        {
          "output_type": "stream",
          "name": "stdout",
          "text": [
            "Writing BurgerOrder.java\n"
          ]
        }
      ]
    },
    {
      "cell_type": "code",
      "source": [
        "!javac BurgerOrder.java\n",
        "!java BurgerOrder"
      ],
      "metadata": {
        "colab": {
          "base_uri": "https://localhost:8080/"
        },
        "id": "k4R8sNo6Gg1k",
        "outputId": "962516f0-4909-4a92-d999-776d1657bd14"
      },
      "execution_count": null,
      "outputs": [
        {
          "output_type": "stream",
          "name": "stdout",
          "text": [
            "Making a plain burger\n",
            "Making a plain burger\n",
            "\n",
            "Making a cheese burger\n",
            "Number of patties: 1\n",
            "Making a bacon deluxe burger\n",
            "Number of patties: 2\n",
            "Making a veggie burger\n",
            "Number of patties: 1\n"
          ]
        }
      ]
    },
    {
      "cell_type": "code",
      "source": [
        "!javac OrderDetails.java\n",
        "!java OrderDetails"
      ],
      "metadata": {
        "colab": {
          "base_uri": "https://localhost:8080/"
        },
        "id": "mGtibOe5GP69",
        "outputId": "fb1cb852-f27c-4cf9-9258-fca6481dcbc2"
      },
      "execution_count": null,
      "outputs": [
        {
          "output_type": "stream",
          "name": "stdout",
          "text": [
            "Order: 2 Classic(s)\n",
            "Pack for takeout\n",
            "Order: 1 Cheese(s)\n",
            "Serve on plates\n",
            "Order: 3 Kids meal(s)\n",
            "Pack for takeout\n"
          ]
        }
      ]
    },
    {
      "cell_type": "markdown",
      "source": [
        "#### Parameter Rules:\n",
        "1. **📋 Order matters**: `(String name, int age)` ≠ `(int age, String name)`\n",
        "2. **🎯 Types must match**: Can't send a String where int is expected\n",
        "3. **🔢 Can have many**: `(String a, int b, double c, boolean d)`\n",
        "4. **📦 Or none**: `()` means no parameters needed\n"
      ],
      "metadata": {
        "id": "e5ac_yXzGGGk"
      }
    },
    {
      "cell_type": "markdown",
      "source": [
        "### Functions that Return Values 📤\n",
        "\n",
        "When Bob calculates a price, you need to know the answer! That's what return values are for - they're how functions send information back to you. Think of it like Bob handing you your receipt after calculating your total.\n",
        "\n",
        "#### The Magic of the Return Statement\n",
        "\n",
        "A function can do calculations or make decisions, but without `return`, that information is trapped inside the function. The `return` statement is like Bob saying \"Here's your answer!\"\n",
        "\n",
        "```java\n",
        "// Without return - calculates but doesn't share the answer\n",
        "public static void calculateTipNoReturn(double bill) {\n",
        "    double tip = bill * 0.15;\n",
        "    // The tip is calculated but stuck inside the function!\n",
        "}\n",
        "\n",
        "// With return - calculates AND shares the answer\n",
        "public static double calculateTip(double bill) {\n",
        "    double tip = bill * 0.15;\n",
        "    return tip;  // Send the answer back!\n",
        "}\n",
        "```\n",
        "\n",
        "#### Different Types of Return Values\n",
        "\n",
        "Just like Bob's restaurant deals with different types of information (prices, burger names, yes/no questions), functions can return different types of data:\n",
        "\n",
        "**Returning Numbers (double, int):**\n",
        "```java\n",
        "public static double getKidsPrice(double adultPrice) {\n",
        "    return adultPrice * 0.5;  // Kids meals are half price\n",
        "}\n",
        "```\n",
        "\n",
        "**Returning Text (String):**\n",
        "```java\n",
        "public static String getBurgerSize(int patties) {\n",
        "    if (patties == 1) return \"Regular\";\n",
        "    if (patties == 2) return \"Double\";\n",
        "    return \"Monster\";  // 3 or more patties\n",
        "}\n",
        "```\n",
        "\n",
        "**Returning Yes/No (boolean):**\n",
        "```java\n",
        "public static boolean qualifiesForFreeDrink(double orderTotal) {\n",
        "    return orderTotal >= 15.00;  // Returns true if $15 or more\n",
        "}\n",
        "```\n",
        "\n",
        "#### Return vs Void: Not All Functions Give Back Values\n",
        "\n",
        "Some functions DO things (like printing), while others CALCULATE things. If a function doesn't need to return anything, we use `void`:\n",
        "\n",
        "```java\n",
        "// This function RETURNS a value - you can store it\n",
        "public static double getPrice() {\n",
        "    return 9.99;\n",
        "}\n",
        "\n",
        "// This function returns NOTHING (void) - it just does something\n",
        "public static void printWelcome() {\n",
        "    System.out.println(\"Welcome to Bob's Burgers!\");\n",
        "    // No return needed - its job is just to print\n",
        "}\n",
        "\n",
        "// Using them in main:\n",
        "public static void main(String[] args) {\n",
        "    double cost = getPrice();         // Can store the returned value\n",
        "    printWelcome();                   // Just runs, nothing to store\n",
        "    \n",
        "    // You can also use returned values directly:\n",
        "    System.out.println(\"Burger cost: $\" + getPrice());\n",
        "}\n",
        "```\n",
        "\n",
        "#### Key Points to Remember:\n",
        "- 📤 **return** sends a value back to whoever called the function\n",
        "- 🎯 The type you return must match what you promised in the function header\n",
        "- 🛑 A function stops immediately when it hits a return statement\n",
        "- 💾 You can store the returned value OR use it directly\n",
        "- 🚫 **void** functions don't return anything - they just perform actions\n",
        "\n",
        "**Think of it this way**: When you ask Bob \"What's the total?\", you expect an answer back. That's a function with a return value. When you say \"Make me a burger\", you don't expect Bob to hand you a number - you expect him to make the burger. That's a void function!"
      ],
      "metadata": {
        "id": "8OcWLJ0uFyV1"
      }
    },
    {
      "cell_type": "markdown",
      "source": [
        "## Variable Scope: Where Variables Live and Die 🏠\n",
        "\n",
        "Just like Bob's restaurant has different areas where different people can go - the kitchen is for Bob, the dining room is for customers, and the office is private - variables in Java have different \"scopes\" or areas where they can be accessed.\n",
        "\n",
        "### What is Scope?\n",
        "**Scope** determines where in your program a variable can be used. Think of it like employee access at Bob's Burgers:\n",
        "\n",
        "- Bob can access the kitchen, dining room, and office\n",
        "- Customers can only access the dining room  \n",
        "- Secret recipes are locked in Bob's private office\n",
        "\n",
        "Variables work the same way - some can be accessed everywhere, others only in specific functions.\n",
        "\n",
        "### Local Variables: Function Residents 🏠\n",
        "\n",
        "Variables declared **inside** a function are called **local variables**. They live only within that function and disappear when the function ends.\n",
        "\n",
        "```java\n",
        "public class BobsKitchen {\n",
        "    public static double calculateBurgerCost() {\n",
        "        double meatCost = 3.50;      // Local variable\n",
        "        double bunCost = 0.75;       // Local variable  \n",
        "        double total = meatCost + bunCost;  // Local variable\n",
        "        \n",
        "        return total;\n",
        "        // meatCost, bunCost, and total DIE here when function ends!\n",
        "    }\n",
        "    \n",
        "    public static void main(String[] args) {\n",
        "        double orderTotal = calculateBurgerCost();\n",
        "        System.out.println(\"Burger costs: $\" + orderTotal);\n",
        "        \n",
        "        // ERROR! These lines won't work:\n",
        "        // System.out.println(meatCost);  // Can't see meatCost here!\n",
        "        // System.out.println(bunCost);   // Can't see bunCost here!\n",
        "    }\n",
        "}\n",
        "```\n",
        "\n",
        "**Key Point:** `meatCost` and `bunCost` only exist inside `calculateBurgerCost()`. The `main` function can't see them!\n",
        "\n",
        "### Parameters: Temporary Visitors 👥\n",
        "\n",
        "Function parameters are also local variables - they exist only while the function is running:\n",
        "\n",
        "```java\n",
        "public static double addTax(double price) {  // 'price' is a parameter\n",
        "    double taxRate = 0.08;                   // 'taxRate' is local\n",
        "    double tax = price * taxRate;            // 'tax' is local\n",
        "    return price + tax;\n",
        "    // price, taxRate, and tax all disappear here!\n",
        "}\n",
        "\n",
        "public static void main(String[] args) {\n",
        "    double burgerPrice = 8.99;\n",
        "    double total = addTax(burgerPrice);      // burgerPrice gets COPIED to 'price'\n",
        "    \n",
        "    // ERROR! Can't access these:\n",
        "    // System.out.println(price);    // 'price' doesn't exist here\n",
        "    // System.out.println(taxRate);  // 'taxRate' doesn't exist here\n",
        "}\n",
        "```\n",
        "\n",
        "\n",
        "\n",
        "### Think About It 🤔\n",
        "\n",
        "- Why is it good that functions can't access each other's variables?\n",
        "- How does scope help prevent bugs in large programs?\n",
        "- What would happen if all variables were accessible everywhere?\n",
        "\n",
        "**Remember:** Scope is like having separate rooms in Bob's restaurant - it keeps things organized, prevents conflicts, and makes sure everyone has their own private workspace!"
      ],
      "metadata": {
        "id": "gKOnRwwPcNit"
      }
    },
    {
      "cell_type": "markdown",
      "source": [
        "### Problems\n",
        "\n",
        "#### Problem 1: Tips\n",
        "Linda insists customers leave a tip, but she never wants to miscalculate. Write a function that takes a bill amount and a tip percentage, then returns the total with tip added."
      ],
      "metadata": {
        "id": "Tq18K1eCLV4G"
      }
    },
    {
      "cell_type": "code",
      "source": [
        "%%writefile BurgerTip.java\n",
        "public class BurgerTip {\n",
        "    // TODO: Return subtotal plus the tip amount (percent is like 15 for 15%).\n",
        "    public static double tip(double subtotal, double percent) {\n",
        "        // your code here\n",
        "    }\n",
        "\n",
        "    public static void main(String[] args) {\n",
        "        System.out.println(\"Bill with tip: $\" + tip(40.0, 20.0)); // expect 48.0\n",
        "        System.out.println(\"Bill with tip: $\" + tip(25.0, 10.0)); // expect 27.5\n",
        "        // Try calling it with additional values!\n",
        "    }\n",
        "}\n"
      ],
      "metadata": {
        "id": "ISjhTgoOLvRC"
      },
      "execution_count": null,
      "outputs": []
    },
    {
      "cell_type": "code",
      "source": [
        "!javac BurgerTip.java\n",
        "!java BurgerTip"
      ],
      "metadata": {
        "id": "knsOvopwMBQ4"
      },
      "execution_count": null,
      "outputs": []
    },
    {
      "cell_type": "markdown",
      "source": [
        "### Functions for Decision Making 🤔\n",
        "\n",
        "Bob's Burgers has different rules for different situations - kids get discounts, delivery fees depend on distance, and happy hour changes prices. Functions can make these decisions using if-else statements!\n",
        "\n",
        "#### Example 1: Delivery Fee Based on Distance\n",
        "\n",
        "Bob offers delivery, but the fee depends on how far away you live. The function looks at the distance and decides the appropriate fee:\n",
        "\n",
        "```java\n",
        "public static double getDeliveryFee(double miles) {\n",
        "    if (miles <= 2.0) {\n",
        "        return 0.00;      // Free delivery nearby!\n",
        "    } else if (miles <= 5.0) {\n",
        "        return 2.99;      // Small fee for medium distance\n",
        "    } else if (miles <= 10.0) {\n",
        "        return 4.99;      // Higher fee for far away\n",
        "    } else {\n",
        "        return -1.0;      // Special code meaning \"too far\"\n",
        "    }\n",
        "}\n",
        "```\n",
        "\n",
        "Notice how the function returns different values based on the input. When we use it:\n",
        "```java\n",
        "double fee1 = getDeliveryFee(1.5);   // Returns 0.00\n",
        "double fee2 = getDeliveryFee(4.0);   // Returns 2.99\n",
        "double fee3 = getDeliveryFee(15.0);  // Returns -1.0 (too far!)\n",
        "```\n",
        "\n",
        "#### Example 2: Determining Customer Status\n",
        "\n",
        "Bob wants to reward loyal customers. Based on how many times they've ordered this month, they get different status levels:\n",
        "\n",
        "```java\n",
        "public static String getCustomerStatus(int ordersThisMonth) {\n",
        "    if (ordersThisMonth == 0) {\n",
        "        return \"New Customer - Welcome!\";\n",
        "    } else if (ordersThisMonth <= 3) {\n",
        "        return \"Regular Customer\";\n",
        "    } else if (ordersThisMonth <= 9) {\n",
        "        return \"Frequent Customer - Thanks!\";\n",
        "    } else {\n",
        "        return \"VIP Customer - We love you!\";\n",
        "    }\n",
        "}\n",
        "```\n",
        "\n",
        "#### Example 3: Complex Decisions with Multiple Conditions\n",
        "\n",
        "Sometimes decisions depend on multiple factors. Happy hour pricing only applies during certain hours AND on certain days:\n",
        "\n",
        "```java\n",
        "public static boolean isHappyHour(int hour, String day) {\n",
        "    // Happy hour: 3-5 PM on weekdays only\n",
        "    \n",
        "    // First check the time (3 PM = 15, 5 PM = 17 in 24-hour time)\n",
        "    if (hour >= 15 && hour <= 17) {\n",
        "        // Time is right, now check the day\n",
        "        if (day.equals(\"Saturday\") || day.equals(\"Sunday\")) {\n",
        "            return false;  // No happy hour on weekends\n",
        "        } else {\n",
        "            return true;   // Weekday + right time = happy hour!\n",
        "        }\n",
        "    }\n",
        "    \n",
        "    return false;  // Wrong time = no happy hour\n",
        "}\n",
        "```\n",
        "\n",
        "#### Key Patterns for Decision Functions:\n",
        "\n",
        "1. **🔀 Multiple Return Points**: Different paths through the function return different values\n",
        "   ```java\n",
        "   if (condition1) return value1;\n",
        "   if (condition2) return value2;\n",
        "   return defaultValue;\n",
        "   ```\n",
        "\n",
        "2. **🚪 Early Returns**: As soon as you know the answer, return it\n",
        "   ```java\n",
        "   if (age < 5) return \"Too young\";  // Stop here if true\n",
        "   // Rest of function only runs if age >= 5\n",
        "   ```\n",
        "\n",
        "3. **🎯 Default Cases**: Always have a final return for cases you didn't specifically handle\n",
        "\n",
        "4. **❓ Special Return Values**: Use special values like -1 or \"ERROR\" to indicate problems\n",
        "\n",
        "**Remember**: Functions with decisions are like Bob looking at an order and deciding what to do - check the age for discounts, check the time for happy hour, check the distance for delivery. The function examines its inputs and makes smart choices!"
      ],
      "metadata": {
        "id": "CynZLU7zZQf5"
      }
    },
    {
      "cell_type": "markdown",
      "source": [
        "\n",
        "#### Key Patterns:\n",
        "1. **🔀 Multiple return paths**: Different conditions return different values\n",
        "2. **🚪 Early returns**: Can return as soon as you know the answer\n",
        "3. **🎯 Default cases**: Always handle \"else\" situations\n",
        "4. **❓ Special values**: Like -1 for \"error\" or \"not applicable\"\n",
        "\n",
        "**Remember**: Functions can be smart! They can look at the input and make decisions about what to return."
      ],
      "metadata": {
        "id": "LR79tjapZxpw"
      }
    },
    {
      "cell_type": "markdown",
      "source": [
        "#### Problem 2: Counting Free Deliveries\n",
        "Gene promises free delivery for customers within 2 miles. Write a function that takes an array of delivery distances and counts how many are eligible for free delivery."
      ],
      "metadata": {
        "id": "2N8JOtSYLx6D"
      }
    },
    {
      "cell_type": "code",
      "source": [
        "%%writefile FreeDelivery.java\n",
        "public class FreeDelivery {\n",
        "    // TODO: Count how many numbers in miles[] are <= 2.0\n",
        "    public static int countFreeDeliveries(double[] miles) {\n",
        "        // your code here\n",
        "    }\n",
        "\n",
        "    public static void main(String[] args) {\n",
        "        double[] orders = {1.0, 3.2, 2.0};\n",
        "        System.out.println(\"Free deliveries: \" + countFreeDeliveries(orders)); // expect 2\n",
        "        // Try a different test -- define a NEW array of deliveries\n",
        "    }\n",
        "}\n"
      ],
      "metadata": {
        "id": "4QKo599LL9lj"
      },
      "execution_count": null,
      "outputs": []
    },
    {
      "cell_type": "code",
      "source": [
        "!javac FreeDelivery.java\n",
        "!java FreeDelivery"
      ],
      "metadata": {
        "id": "YPt-7stX0aKl"
      },
      "execution_count": null,
      "outputs": []
    },
    {
      "cell_type": "markdown",
      "source": [
        "## The Kids Meal Discount Function: Multiple Return Paths 🧒\n",
        "\n",
        "Bob loves families and wants to make his restaurant affordable for everyone. He offers special pricing for kids and seniors. Let's build a smart discount system that automatically applies the right discount based on age.\n",
        "\n",
        "So far, our functions have done simple calculations. But this function introduces something new: **multiple return paths**. Depending on the input, the function can exit early and return different values.\n",
        "\n",
        "#### Bob's Discount Policy\n",
        "- Kids (12 and under): 50% off\n",
        "- Seniors (65 and over): 20% off\n",
        "- Everyone else: Regular price\n",
        "\n",
        "#### The Function with Multiple Return Statements\n",
        "\n",
        "```java\n",
        "public static double calculatePrice(double regularPrice, int age) {\n",
        "    if (age <= 12) {\n",
        "        return regularPrice * 0.5;    // Exit here for kids\n",
        "    }\n",
        "    if (age >= 65) {\n",
        "        return regularPrice * 0.8;    // Exit here for seniors\n",
        "    }\n",
        "    return regularPrice;              // Everyone else gets here\n",
        "}\n",
        "```\n",
        "\n",
        "Some things to notice:\n",
        "\n",
        "- **Early Returns.** Notice how the function can `return` immediately when it finds the right condition. Once a `return` statement executes, the function stops - no more code runs.\n",
        "\n",
        "- **No Else Needed.** Because `return` exits the function, we don't need `else` statements. If `age <= 12` is true, the function returns and never checks the senior condition.\n",
        "\n",
        "#### Think About It\n",
        "\n",
        "- What happens if someone enters a negative age?\n",
        "- How would you add a student discount for ages 13-22?\n",
        "- Why is the order of conditions important?\n",
        "\n",
        "Remember: Functions can be smart decision-makers that choose different paths based on their inputs!"
      ],
      "metadata": {
        "id": "oktd7HImP3j6"
      }
    },
    {
      "cell_type": "markdown",
      "source": [
        "### Practice Problem: Writing Java Functions\n",
        "Run the following cell to launch a Java Practice tool.\n",
        "\n",
        "Note: When you click \"run\", it will take a few seconds! This is because Java needs to compile the program, and then it against some test cases. Be patient!\n",
        "\n",
        "For these problems, you do NOT need to worry about writing a class, main method, or javac, or java--these are all taken care of for you!"
      ],
      "metadata": {
        "id": "cJRywuZtx6Jg"
      }
    },
    {
      "cell_type": "code",
      "source": [
        "!wget https://github.com/brendanpshea/programming_problem_solving/raw/main/java_autograde/java_tool.py -q -nc\n",
        "from java_tool import *\n",
        "java_tool = JavaPracticeTool(json_url=\"https://github.com/brendanpshea/programming_problem_solving/raw/main/java_autograde/basic_functions.json\")"
      ],
      "metadata": {
        "id": "aHdTgC-Ox8gn"
      },
      "execution_count": null,
      "outputs": []
    },
    {
      "cell_type": "markdown",
      "source": [
        "### Functions with Multiple Calculations 🧮\n",
        "\n",
        "So far, our functions have done simple calculations. But Bob's restaurant needs functions that can handle multiple steps - like calculating a complete order with tax, discounts, AND delivery fees all at once!\n",
        "\n",
        "We can think of a function as a mini-program that:\n",
        "1. Takes in some information\n",
        "2. Does several calculations or steps\n",
        "3. Returns a final result\n",
        "\n",
        "It's like Bob taking an order, calculating the food cost, adding tax, applying discounts, checking delivery distance, and THEN giving you the final total.\n",
        "\n",
        "#### Example: Complete Order Calculator\n",
        "\n",
        "Let's build a function that handles multiple calculations step by step:\n",
        "\n",
        "```java\n",
        "public static double calculateTotal(double foodCost, int customerAge, double miles) {\n",
        "    // Step 1: Age discount\n",
        "    if (customerAge <= 12) {\n",
        "        foodCost = foodCost * 0.5;  // Kids 50% off\n",
        "    } else if (customerAge >= 65) {\n",
        "        foodCost = foodCost * 0.8;  // Seniors 20% off\n",
        "    }\n",
        "    \n",
        "    // Step 2: Add tax (8%)\n",
        "    double tax = foodCost * 0.08;\n",
        "    double totalWithTax = foodCost + tax;\n",
        "    \n",
        "    // Step 3: Add delivery fee if needed\n",
        "    double deliveryFee = 0;\n",
        "    if (miles > 2) {\n",
        "        deliveryFee = 2.99;\n",
        "    }\n",
        "    if (miles > 5) {\n",
        "        deliveryFee = 4.99;  // Further = higher fee\n",
        "    }\n",
        "    \n",
        "    // Step 4: Calculate final total\n",
        "    return totalWithTax + deliveryFee;\n",
        "}\n",
        "```\n",
        "\n",
        "Notice how each step builds on the previous ones. The function does ALL the work internally and returns just the final answer.\n",
        "\n",
        "#### Creating Detailed Receipts\n",
        "\n",
        "Sometimes we need functions that prepare complex information:\n",
        "\n",
        "```java\n",
        "public static String createReceipt(String name, double food, boolean isDelivery) {\n",
        "    double tax = food * 0.08;\n",
        "    double deliveryFee = isDelivery ? 2.99 : 0.00;\n",
        "    double total = food + tax + deliveryFee;\n",
        "    \n",
        "    // Build receipt line by line\n",
        "    String receipt = \"BOB'S BURGERS\\n\";\n",
        "    receipt = receipt + \"Customer: \" + name + \"\\n\";\n",
        "    receipt = receipt + \"Food: $\" + food + \"\\n\";\n",
        "    receipt = receipt + \"Tax: $\" + tax + \"\\n\";\n",
        "    if (isDelivery) {\n",
        "        receipt = receipt + \"Delivery: $\" + deliveryFee + \"\\n\";\n",
        "    }\n",
        "    receipt = receipt + \"TOTAL: $\" + total;\n",
        "    \n",
        "    return receipt;\n",
        "}\n",
        "```\n",
        "\n",
        "#### Key Takeaways:\n",
        "\n",
        "1. **Functions can do multiple steps**: Not just one calculation\n",
        "2. **Variables inside functions are temporary**: They exist only while the function runs\n",
        "3. **Order matters**: Apply discounts before tax!\n",
        "4. **Each function should have one main job**: Even if that job has multiple steps\n",
        "\n",
        "**Think About It**:\n",
        "- What happens if you apply tax before the discount?\n",
        "- How would you add a \"loyalty points\" feature?\n",
        "- What if some items are tax-exempt?\n",
        "\n",
        "**Remember**: Complex functions are just simple steps done in order. Break big problems into smaller pieces!## Functions with Multiple Calculations 🧮\n"
      ],
      "metadata": {
        "id": "rKGrHl0zIVd4"
      }
    },
    {
      "cell_type": "markdown",
      "source": [
        "## Functions That Format and Convert Data\n",
        "\n",
        "Functions can take raw data and convert it into formats that are easier to read, display, or use. This is one of the most practical applications of functions in real programming.\n",
        "\n",
        "### What Does Data Formatting Mean?\n",
        "\n",
        "Data formatting means taking information and presenting it in a way that's more useful or readable. For example:\n",
        "\n",
        "- Taking a decimal like `3.14159` and rounding it to `3.14` for display\n",
        "- Taking a price like `15.5` and formatting it as `$15.50`\n",
        "- Taking separate pieces of information and combining them into a sentence\n",
        "- Converting between measurement units for easier measuring\n",
        "\n",
        "### Example: Unit Conversion\n",
        "\n",
        "Bob's recipes use different measurement units, and sometimes he needs to convert between them for easier measuring:\n",
        "\n",
        "```java\n",
        "public static double tablespoonsToTeaspoons(double tablespoons) {\n",
        "    return tablespoons * 3;\n",
        "}\n",
        "\n",
        "public static double tablespoonsToCups(double tablespoons) {\n",
        "    return tablespoons / 16.0;\n",
        "}\n",
        "\n",
        "public static double roundToTwoDecimals(double value) {\n",
        "    return Math.round(value * 100.0) / 100.0;\n",
        "}\n",
        "```\n",
        "\n",
        "These functions perform mathematical conversions: `tablespoonsToTeaspoons(2)` returns `6.0`, and `tablespoonsToCups(8)` returns `0.5`. The rounding function takes `3.14159` and returns `3.14`.\n",
        "\n",
        "### Example: Price Formatting\n",
        "\n",
        "Bob's prices are stored as simple decimal numbers, but customers expect to see them formatted as currency:\n",
        "\n",
        "```java\n",
        "public static String formatPrice(double price) {\n",
        "    return \"$\" + String.format(\"%.2f\", price);\n",
        "}\n",
        "```\n",
        "\n",
        "This function takes `8.5` and returns `\"$8.50\"`. The raw number becomes a properly formatted price string.\n",
        "\n",
        "### Testing the Functions\n",
        "\n"
      ],
      "metadata": {
        "id": "cIy4H-bKw9pF"
      }
    },
    {
      "cell_type": "code",
      "source": [
        "%%writefile DataConverter.java\n",
        "public class DataConverter {\n",
        "    public static double tablespoonsToTeaspoons(double tablespoons) {\n",
        "        return tablespoons * 3;\n",
        "    }\n",
        "\n",
        "    public static double tablespoonsToCups(double tablespoons) {\n",
        "        return tablespoons / 16.0;\n",
        "    }\n",
        "\n",
        "    public static double roundToTwoDecimals(double value) {\n",
        "        return Math.round(value * 100.0) / 100.0;\n",
        "    }\n",
        "\n",
        "    public static String formatPrice(double price) {\n",
        "        return \"$\" + String.format(\"%.4000f\", price);\n",
        "    }\n",
        "\n",
        "    public static void main(String[] args) {\n",
        "        // Test unit conversions\n",
        "        System.out.println(\"2 tbsp = \" + tablespoonsToTeaspoons(2) + \" tsp\");\n",
        "        System.out.println(\"8 tbsp = \" + tablespoonsToCups(8) + \" cups\");\n",
        "        System.out.println(\"Rounded π: \" + roundToTwoDecimals(3.14159));\n",
        "\n",
        "        // Test price formatting\n",
        "        System.out.println(formatPrice(8.5));\n",
        "        System.out.println(formatPrice(12.99));\n",
        "    }\n",
        "}"
      ],
      "metadata": {
        "colab": {
          "base_uri": "https://localhost:8080/"
        },
        "id": "yExL-_Pux_3x",
        "outputId": "f9ddb5f6-d46c-4b08-ba9a-a3ba5b3a7f32"
      },
      "execution_count": 11,
      "outputs": [
        {
          "output_type": "stream",
          "name": "stdout",
          "text": [
            "Overwriting DataConverter.java\n"
          ]
        }
      ]
    },
    {
      "cell_type": "code",
      "source": [
        "!javac DataConverter.java\n",
        "!java DataConverter"
      ],
      "metadata": {
        "colab": {
          "base_uri": "https://localhost:8080/"
        },
        "id": "JRUtnn_HyEiI",
        "outputId": "80cee507-9c5d-48d4-c567-897ca3a56b5b"
      },
      "execution_count": 12,
      "outputs": [
        {
          "output_type": "stream",
          "name": "stdout",
          "text": [
            "2 tbsp = 6.0 tsp\n",
            "8 tbsp = 0.5 cups\n",
            "Rounded π: 3.14\n",
            "$8.5000000000000000000000000000000000000000000000000000000000000000000000000000000000000000000000000000000000000000000000000000000000000000000000000000000000000000000000000000000000000000000000000000000000000000000000000000000000000000000000000000000000000000000000000000000000000000000000000000000000000000000000000000000000000000000000000000000000000000000000000000000000000000000000000000000000000000000000000000000000000000000000000000000000000000000000000000000000000000000000000000000000000000000000000000000000000000000000000000000000000000000000000000000000000000000000000000000000000000000000000000000000000000000000000000000000000000000000000000000000000000000000000000000000000000000000000000000000000000000000000000000000000000000000000000000000000000000000000000000000000000000000000000000000000000000000000000000000000000000000000000000000000000000000000000000000000000000000000000000000000000000000000000000000000000000000000000000000000000000000000000000000000000000000000000000000000000000000000000000000000000000000000000000000000000000000000000000000000000000000000000000000000000000000000000000000000000000000000000000000000000000000000000000000000000000000000000000000000000000000000000000000000000000000000000000000000000000000000000000000000000000000000000000000000000000000000000000000000000000000000000000000000000000000000000000000000000000000000000000000000000000000000000000000000000000000000000000000000000000000000000000000000000000000000000000000000000000000000000000000000000000000000000000000000000000000000000000000000000000000000000000000000000000000000000000000000000000000000000000000000000000000000000000000000000000000000000000000000000000000000000000000000000000000000000000000000000000000000000000000000000000000000000000000000000000000000000000000000000000000000000000000000000000000000000000000000000000000000000000000000000000000000000000000000000000000000000000000000000000000000000000000000000000000000000000000000000000000000000000000000000000000000000000000000000000000000000000000000000000000000000000000000000000000000000000000000000000000000000000000000000000000000000000000000000000000000000000000000000000000000000000000000000000000000000000000000000000000000000000000000000000000000000000000000000000000000000000000000000000000000000000000000000000000000000000000000000000000000000000000000000000000000000000000000000000000000000000000000000000000000000000000000000000000000000000000000000000000000000000000000000000000000000000000000000000000000000000000000000000000000000000000000000000000000000000000000000000000000000000000000000000000000000000000000000000000000000000000000000000000000000000000000000000000000000000000000000000000000000000000000000000000000000000000000000000000000000000000000000000000000000000000000000000000000000000000000000000000000000000000000000000000000000000000000000000000000000000000000000000000000000000000000000000000000000000000000000000000000000000000000000000000000000000000000000000000000000000000000000000000000000000000000000000000000000000000000000000000000000000000000000000000000000000000000000000000000000000000000000000000000000000000000000000000000000000000000000000000000000000000000000000000000000000000000000000000000000000000000000000000000000000000000000000000000000000000000000000000000000000000000000000000000000000000000000000000000000000000000000000000000000000000000000000000000000000000000000000000000000000000000000000000000000000000000000000000000000000000000000000000000000000000000000000000000000000000000000000000000000000000000000000000000000000000000000000000000000000000000000000000000000000000000000000000000000000000000000000000000000000000000000000000000000000000000000000000000000000000000000000000000000000000000000000000000000000000000000000000000000000000000000000000000000000000000000000000000000000000000000000000000000000000000000000000000000000000000000000000000000000000000000000000000000000000000000000000000000000000000000000000000000000000000000000000000000000000000000\n",
            "$12.9900000000000000000000000000000000000000000000000000000000000000000000000000000000000000000000000000000000000000000000000000000000000000000000000000000000000000000000000000000000000000000000000000000000000000000000000000000000000000000000000000000000000000000000000000000000000000000000000000000000000000000000000000000000000000000000000000000000000000000000000000000000000000000000000000000000000000000000000000000000000000000000000000000000000000000000000000000000000000000000000000000000000000000000000000000000000000000000000000000000000000000000000000000000000000000000000000000000000000000000000000000000000000000000000000000000000000000000000000000000000000000000000000000000000000000000000000000000000000000000000000000000000000000000000000000000000000000000000000000000000000000000000000000000000000000000000000000000000000000000000000000000000000000000000000000000000000000000000000000000000000000000000000000000000000000000000000000000000000000000000000000000000000000000000000000000000000000000000000000000000000000000000000000000000000000000000000000000000000000000000000000000000000000000000000000000000000000000000000000000000000000000000000000000000000000000000000000000000000000000000000000000000000000000000000000000000000000000000000000000000000000000000000000000000000000000000000000000000000000000000000000000000000000000000000000000000000000000000000000000000000000000000000000000000000000000000000000000000000000000000000000000000000000000000000000000000000000000000000000000000000000000000000000000000000000000000000000000000000000000000000000000000000000000000000000000000000000000000000000000000000000000000000000000000000000000000000000000000000000000000000000000000000000000000000000000000000000000000000000000000000000000000000000000000000000000000000000000000000000000000000000000000000000000000000000000000000000000000000000000000000000000000000000000000000000000000000000000000000000000000000000000000000000000000000000000000000000000000000000000000000000000000000000000000000000000000000000000000000000000000000000000000000000000000000000000000000000000000000000000000000000000000000000000000000000000000000000000000000000000000000000000000000000000000000000000000000000000000000000000000000000000000000000000000000000000000000000000000000000000000000000000000000000000000000000000000000000000000000000000000000000000000000000000000000000000000000000000000000000000000000000000000000000000000000000000000000000000000000000000000000000000000000000000000000000000000000000000000000000000000000000000000000000000000000000000000000000000000000000000000000000000000000000000000000000000000000000000000000000000000000000000000000000000000000000000000000000000000000000000000000000000000000000000000000000000000000000000000000000000000000000000000000000000000000000000000000000000000000000000000000000000000000000000000000000000000000000000000000000000000000000000000000000000000000000000000000000000000000000000000000000000000000000000000000000000000000000000000000000000000000000000000000000000000000000000000000000000000000000000000000000000000000000000000000000000000000000000000000000000000000000000000000000000000000000000000000000000000000000000000000000000000000000000000000000000000000000000000000000000000000000000000000000000000000000000000000000000000000000000000000000000000000000000000000000000000000000000000000000000000000000000000000000000000000000000000000000000000000000000000000000000000000000000000000000000000000000000000000000000000000000000000000000000000000000000000000000000000000000000000000000000000000000000000000000000000000000000000000000000000000000000000000000000000000000000000000000000000000000000000000000000000000000000000000000000000000000000000000000000000000000000000000000000000000000000000000000000000000000000000000000000000000000000000000000000000000000000000000000000000000000000000000000000000000000000000000000000000000000000000000000000000000000000000000000000000000000000000000000000000000000000000000000000000000000000000000\n"
          ]
        }
      ]
    },
    {
      "cell_type": "markdown",
      "source": [
        "### Key Principles\n",
        "\n",
        "- **User-Friendly Output.** Raw data (like `8.5`) becomes readable information (like `\"$8.50\"`).\n",
        "\n",
        "- **Reusable Formatting**. Write the formatting logic once, use it everywhere prices need to be displayed.\n",
        "\n",
        "- **Consistent Presentation**. All prices and measurements look the same throughout your program.\n",
        "\n",
        "- **Separation of Data and Display**. Store data in simple formats, but display it in user-friendly formats.\n",
        "\n",
        "These formatting functions are essential in real programs because users need information presented clearly, not as raw numbers or data structu"
      ],
      "metadata": {
        "id": "k-vDuZnvx8RT"
      }
    },
    {
      "cell_type": "markdown",
      "source": [
        "## Functions that Work with Strings 📝\n",
        "\n",
        "Bob is famous for his creative daily burger specials with punny names. Let's learn how functions can manipulate text to help Bob manage his menu names and customer greetings.\n",
        "\n",
        "Java provides many helpful methods for working with Strings. Here are the most useful ones you'll need:\n",
        "\n",
        "```java\n",
        "String text = \"Bob's Burgers\";\n",
        "\n",
        "// Getting information\n",
        "int len = text.length();                    // 13\n",
        "boolean hasBob = text.contains(\"Bob\");      // true\n",
        "int spacePos = text.indexOf(\" \");           // 5\n",
        "\n",
        "// Transforming text\n",
        "String upper = text.toUpperCase();          // \"BOB'S BURGERS\"\n",
        "String lower = text.toLowerCase();          // \"bob's burgers\"\n",
        "String first3 = text.substring(0, 3);       // \"Bob\"\n",
        "\n",
        "// Comparing (remember: use .equals() not ==)\n",
        "boolean same = text.equals(\"Bob's Burgers\"); // true\n",
        "```\n"
      ],
      "metadata": {
        "id": "iiLJ1TZdQ1X3"
      }
    },
    {
      "cell_type": "markdown",
      "source": [
        "### Key String Method Patterns\n",
        "\n",
        "| Category | Method | What It Does | Example Code | Example Result |\n",
        "|----------|--------|--------------|--------------|----------------|\n",
        "| **Getting Information** | `.length()` | Returns number of characters | `\"Bob's Burgers\".length()` | `13` |\n",
        "| | `.charAt(index)` | Gets character at specific position | `\"Bob's Burgers\".charAt(0)` | `\"B\"` |\n",
        "| | `.indexOf(text)` | Finds first position of character/text | `\"Bob's Burgers\".indexOf(\"B\")` | `0` |\n",
        "| | `.indexOf(text, start)` | Finds position starting from index | `\"Bob's Burgers\".indexOf(\"B\", 1)` | `6` |\n",
        "| | `.lastIndexOf(text)` | Finds last position of character/text | `\"Bob's Burgers\".lastIndexOf(\"s\")` | `12` |\n",
        "| | `.contains(text)` | Checks if text includes something | `\"Bob's Burgers\".contains(\"Bob\")` | `true` |\n",
        "| | `.isEmpty()` | Checks if string has no characters | `\"\".isEmpty()` | `true` |\n",
        "| **Extracting Parts** | `.substring(start)` | Gets text from position to end | `\"Bob's Burgers\".substring(5)` | `\" Burgers\"` |\n",
        "| | `.substring(start, end)` | Gets text between positions | `\"Bob's Burgers\".substring(0, 5)` | `\"Bob's\"` |\n",
        "| | `.charAt(index)` | Extracts single character at position | `\"Bob's Burgers\".charAt(4)` | `\"'\"` |\n",
        "| **Transforming** | `.toUpperCase()` | Converts to ALL CAPS | `\"Bob's Burgers\".toUpperCase()` | `\"BOB'S BURGERS\"` |\n",
        "| | `.toLowerCase()` | Converts to lowercase | `\"Bob's Burgers\".toLowerCase()` | `\"bob's burgers\"` |\n",
        "| | `.trim()` | Removes spaces from beginning/end | `\" Bob's Burgers \".trim()` | `\"Bob's Burgers\"` |\n",
        "| | `.replace(old, new)` | Replaces first occurrence | `\"Bob's Burgers\".replace(\"'\", \"\")` | `\"Bobs Burgers\"` |\n",
        "| | `.replaceAll(old, new)` | Replaces all occurrences | `\"Bob's Bob's\".replaceAll(\"'\", \"\")` | `\"Bobs Bobs\"` |\n",
        "| | `+` (concatenation) | Combines strings together | `\"Hello \" + \"World\"` | `\"Hello World\"` |\n",
        "| **Comparing** | `.equals(other)` | Checks if strings are identical | `\"Bob\".equals(\"Bob\")` | `true` |\n",
        "| | `.equalsIgnoreCase(other)` | Checks ignoring upper/lowercase | `\"BOB\".equalsIgnoreCase(\"bob\")` | `true` |\n",
        "| | `.startsWith(text)` | Checks if string begins with text | `\"Bob's Burgers\".startsWith(\"Bob\")` | `true` |\n",
        "| | `.endsWith(text)` | Checks if string ends with text | `\"Bob's Burgers\".endsWith(\"ers\")` | `true` |\n",
        "| | `.compareTo(other)` | Compares strings alphabetically | `\"apple\".compareTo(\"banana\")` | negative number |\n",
        "\n",
        "**Key Notes:**\n",
        "- String indexes start at 0 (first character is at position 0)\n",
        "- `indexOf()` returns -1 if the text isn't found\n",
        "- `charAt()` throws an error if the index is out of bounds\n",
        "- `substring()` end position is exclusive (doesn't include that character)\n",
        "- `compareTo()` returns 0 if equal, negative if first string comes before second alphabetically, positive if after\n",
        "\n"
      ],
      "metadata": {
        "id": "stUvbCkHKtKP"
      }
    },
    {
      "cell_type": "markdown",
      "source": [
        "\n",
        "### Important Notes\n",
        "\n",
        "**String methods don't change the original string** - they return a new string with the changes:\n",
        "```java\n",
        "String name = \"bob\";\n",
        "name.toUpperCase();        // This doesn't change 'name'\n",
        "System.out.println(name);  // Still prints \"bob\"\n",
        "\n",
        "name = name.toUpperCase(); // This updates 'name'\n",
        "System.out.println(name);  // Now prints \"BOB\"\n",
        "```\n",
        "\n",
        "**Use `.equals()` for string comparison, never `==`:**\n",
        "```java\n",
        "// RIGHT way\n",
        "if (customerName.equals(\"Teddy\")) { ... }\n",
        "\n",
        "// WRONG way  \n",
        "if (customerName == \"Teddy\") { ... }  // Don't do this!\n",
        "```"
      ],
      "metadata": {
        "id": "9AjLyUFcCijv"
      }
    },
    {
      "cell_type": "markdown",
      "source": [
        "## Functions in Loops 🔁\n",
        "\n",
        "You've already learned how to work with arrays and loops - declaring arrays to store multiple values, using for-loops to iterate through them, and using patterns like linear search and accumulation. Now we'll combine these skills with functions to create powerful data processing programs.\n",
        "\n",
        "First, let's review these fundamental patterns you've learned:\n",
        "\n",
        "**Array Declaration and Initialization:**\n",
        "```java\n",
        "double[] prices = {8.99, 10.99, 7.99, 12.99, 9.99};\n",
        "```\n",
        "\n",
        "**Basic For-Loop Iteration:**\n",
        "```java\n",
        "for (int i = 0; i < prices.length; i++) {\n",
        "    System.out.println(\"Price \" + (i+1) + \": $\" + prices[i]);\n",
        "}\n",
        "```\n",
        "\n",
        "**Linear Search Pattern:**\n",
        "```java\n",
        "// Find a specific value\n",
        "for (int i = 0; i < prices.length; i++) {\n",
        "    if (prices[i] == targetPrice) {\n",
        "        System.out.println(\"Found at position \" + i);\n",
        "    }\n",
        "}\n",
        "```\n",
        "\n",
        "**Accumulation Pattern:**\n",
        "```java\n",
        "// Sum all values\n",
        "double total = 0;\n",
        "for (int i = 0; i < prices.length; i++) {\n",
        "    total = total + prices[i];\n",
        "}\n",
        "```\n",
        "\n",
        "### The New Concept: Functions Inside Loops\n",
        "\n",
        "Now we'll enhance these patterns by calling functions inside the loops. This lets us process each array element through a function, making our code more organized and reusable.\n",
        "\n",
        "Instead of doing calculations directly in the loop, we write functions to handle the processing:\n",
        "\n",
        "```java\n",
        "// Function processes one element\n",
        "public static double addTax(double price) {\n",
        "    return price * 1.08;\n",
        "}\n",
        "\n",
        "// Loop calls function for each element\n",
        "double[] prices = {8.99, 10.99, 7.99, 12.99, 9.99};\n",
        "for (int i = 0; i < prices.length; i++) {\n",
        "    double total = addTax(prices[i]);  // Call function here\n",
        "    System.out.println(\"Customer \" + (i+1) + \": $\" + total);\n",
        "}\n",
        "```\n",
        "\n",
        "### Pattern 1: Transform Each Element\n",
        "\n",
        "This builds on your basic for-loop knowledge. Instead of just printing each element, we process it through a function first:\n",
        "\n",
        "```java\n",
        "// Function to process individual elements\n",
        "public static double applyDiscount(double price, double percent) {\n",
        "    return price * (1 - percent/100);\n",
        "}\n",
        "\n",
        "// Apply function to each array element\n",
        "double[] originalPrices = {25.99, 45.50, 35.00, 18.99};\n",
        "for (int i = 0; i < originalPrices.length; i++) {\n",
        "    double discountedPrice = applyDiscount(originalPrices[i], 15);\n",
        "    System.out.println(\"Original: $\" + originalPrices[i] +\n",
        "                      \" → Sale: $\" + discountedPrice);\n",
        "}\n",
        "```\n",
        "\n",
        "This is like your basic for-loop, but each element gets transformed by a function before being used.\n",
        "\n",
        "### Pattern 2: Enhanced Linear Search with Functions\n",
        "\n",
        "You know how to search arrays for specific values. Now we can search using functions to make more complex decisions:\n",
        "\n",
        "```java\n",
        "// Function to check if a single order is valid\n",
        "public static boolean isValidOrder(double orderAmount) {\n",
        "    return orderAmount > 0 && orderAmount < 100;\n",
        "}\n",
        "\n",
        "// Search array using function to test each element\n",
        "double[] orders = {25.99, 150.00, 45.50, -5.00, 35.00};\n",
        "for (int i = 0; i < orders.length; i++) {\n",
        "    if (isValidOrder(orders[i])) {  // Function call in the condition\n",
        "        System.out.println(\"Order \" + (i+1) + \" is valid: $\" + orders[i]);\n",
        "    } else {\n",
        "        System.out.println(\"Order \" + (i+1) + \" is invalid: $\" + orders[i]);\n",
        "    }\n",
        "}\n",
        "```\n",
        "\n",
        "This extends your linear search pattern - instead of checking `array[i] == target`, we check `function(array[i])` for more sophisticated conditions.\n",
        "\n",
        "### Pattern 3: Enhanced Accumulation with Functions\n",
        "\n",
        "You've learned to accumulate values (like summing an array). Now we can accumulate the results of function calls:\n",
        "\n",
        "```java\n",
        "// Function calculates tax for one price\n",
        "public static double calculateTax(double price) {\n",
        "    return price * 0.08;\n",
        "}\n",
        "\n",
        "// Accumulate function results\n",
        "double[] prices = {8.99, 12.50, 15.99, 9.25};\n",
        "double totalTax = 0;  // Accumulator variable\n",
        "\n",
        "for (int i = 0; i < prices.length; i++) {\n",
        "    double taxForThisItem = calculateTax(prices[i]);\n",
        "    totalTax = totalTax + taxForThisItem;  // Accumulation pattern\n",
        "}\n",
        "System.out.println(\"Total tax for all items: $\" + totalTax);\n",
        "```\n",
        "\n",
        "This is your familiar accumulation pattern, but instead of accumulating the raw array values, we accumulate the results of processing each value through a function.\n",
        "\n",
        "### Pattern 4: Conditional Processing with Functions\n",
        "\n",
        "You can combine the conditional logic from linear search with function calls:\n",
        "\n",
        "```java\n",
        "// Function applies senior discount\n",
        "public static double applySeniorDiscount(double price) {\n",
        "    return price * 0.8;  // 20% off\n",
        "}\n",
        "\n",
        "// Only apply function when condition is met\n",
        "double[] prices = {15.99, 22.50, 8.99};\n",
        "int[] ages = {25, 67, 72};  // Customer ages\n",
        "\n",
        "for (int i = 0; i < prices.length; i++) {\n",
        "    if (ages[i] >= 65) {  // Condition check\n",
        "        double discountedPrice = applySeniorDiscount(prices[i]);\n",
        "        System.out.println(\"Senior customer gets discount: $\" + discountedPrice);\n",
        "    } else {\n",
        "        System.out.println(\"Regular price: $\" + prices[i]);\n",
        "    }\n",
        "}\n",
        "```\n",
        "\n",
        "Now, let's see how all this works in practice:\n",
        "\n"
      ],
      "metadata": {
        "id": "VCKY6XQPLj20"
      }
    },
    {
      "cell_type": "code",
      "source": [
        "%%writefile OrderProcessor.java\n",
        "public class OrderProcessor {\n",
        "    public static double addTax(double price) {\n",
        "        return price * 1.08;\n",
        "    }\n",
        "\n",
        "    public static boolean isValidOrder(double amount) {\n",
        "        return amount > 0 && amount < 100;\n",
        "    }\n",
        "\n",
        "    public static void main(String[] args) {\n",
        "        // Array declaration (you know this!)\n",
        "        double[] dailyOrders = {8.99, 15.50, 22.99, -2.00, 45.00};\n",
        "\n",
        "        // Pattern 1: Process each element with function\n",
        "        System.out.println(\"=== Orders with Tax ===\");\n",
        "        for (int i = 0; i < dailyOrders.length; i++) {\n",
        "            double withTax = addTax(dailyOrders[i]);\n",
        "            System.out.println(\"Order \" + (i+1) + \": $\" + withTax);\n",
        "        }\n",
        "\n",
        "        // Pattern 2: Search with function conditions\n",
        "        System.out.println(\"\\n=== Valid Orders ===\");\n",
        "        int validCount = 0;  // Counter for accumulation\n",
        "        for (int i = 0; i < dailyOrders.length; i++) {\n",
        "            if (isValidOrder(dailyOrders[i])) {\n",
        "                System.out.println(\"Valid order: $\" + dailyOrders[i]);\n",
        "                validCount++;  // Accumulate count\n",
        "            }\n",
        "        }\n",
        "        System.out.println(\"Total valid orders: \" + validCount);\n",
        "    }\n",
        "}"
      ],
      "metadata": {
        "colab": {
          "base_uri": "https://localhost:8080/"
        },
        "id": "jVEkL8ai2KOB",
        "outputId": "1b8e2053-3bf6-4812-8820-54e53046c00c"
      },
      "execution_count": null,
      "outputs": [
        {
          "output_type": "stream",
          "name": "stdout",
          "text": [
            "Writing OrderProcessor.java\n"
          ]
        }
      ]
    },
    {
      "cell_type": "code",
      "source": [
        "!javac OrderProcessor.java\n",
        "!java OrderProcessor"
      ],
      "metadata": {
        "colab": {
          "base_uri": "https://localhost:8080/"
        },
        "id": "mCLsrr9I2P4O",
        "outputId": "4474964d-d22e-4c28-fa9e-f20428452cda"
      },
      "execution_count": null,
      "outputs": [
        {
          "output_type": "stream",
          "name": "stdout",
          "text": [
            "=== Orders with Tax ===\n",
            "Order 1: $9.709200000000001\n",
            "Order 2: $16.740000000000002\n",
            "Order 3: $24.8292\n",
            "Order 4: $-2.16\n",
            "Order 5: $48.6\n",
            "\n",
            "=== Valid Orders ===\n",
            "Valid order: $8.99\n",
            "Valid order: $15.5\n",
            "Valid order: $22.99\n",
            "Valid order: $45.0\n",
            "Total valid orders: 4\n"
          ]
        }
      ]
    },
    {
      "cell_type": "markdown",
      "source": [
        "## Why Functions in Loops Matter\n",
        "\n",
        "1. **Builds on Your Knowledge.** You already know arrays and loops - this just makes them more powerful.\n",
        "2. **Reusable Processing.** Write the logic once in a function, apply it to every array element.\n",
        "3. **Cleaner Code.** The loop shows WHAT you're doing (processing each element), the function shows HOW you're processing it.\n",
        "4. **Easy to Modify.** Change the function, and it automatically affects every element processed through the loop.\n",
        "5. **Professional Pattern.** This combination of functions and loops is fundamental to real programming.\n",
        "\n",
        "Functions in loops aren't a new concept - they're your existing array and loop skills enhanced with the power of functions. You're taking data processing techniques you already know and making them more flexible and reusable."
      ],
      "metadata": {
        "id": "dT_If-t_14Rt"
      }
    },
    {
      "cell_type": "markdown",
      "source": [
        "## Practice Problem: Menu Name Generator\n",
        "\n",
        "Bob needs help creating and validating burger names for his daily specials. Complete the following functions to help him manage his creative menu!\n",
        "\n",
        "**Your Tasks:**\n",
        "\n",
        "1. **`isValidMenuName()`**: Return `true` if the burger name is 25 characters or shorter\n",
        "2. **`createSpecialName()`**: Take an ingredient, capitalize the first letter, and add \"Bob's Special\" to the end\n",
        "3. **`extractIngredient()`**: Extract the ingredient from \"The [INGREDIENT] Spectacular Burger\" format\n",
        "4. **`countLetter()`**: Count how many times a specific letter appears in the name (case-insensitive)\n",
        "\n",
        "**Hints:**\n",
        "- Use `.length()` to check string length\n",
        "- Use `.substring(0, 1).toUpperCase() + ingredient.substring(1).toLowerCase()` to capitalize properly  \n",
        "- Use `.indexOf()` to find positions of text patterns\n",
        "- Use `.charAt()` in a loop to examine each character\n",
        "- Use `.toLowerCase()` to make comparisons case-insensitive\n",
        "\n",
        "Expected output:\n",
        "\n",
        "```\n",
        "Valid name? true\n",
        "Special: Bacon Bob's Special  \n",
        "Ingredient: mushroom\n",
        "Letter count: 4\n",
        "```\n"
      ],
      "metadata": {
        "id": "Ww-A8BWsFTGc"
      }
    },
    {
      "cell_type": "code",
      "source": [
        "%%writefile MenuGenerator.java\n",
        "public class MenuGenerator {\n",
        "    // TODO: Check if a burger name is appropriate length for the menu board (25 characters or less)\n",
        "    public static boolean isValidMenuName(String burgerName) {\n",
        "        // Your code here\n",
        "    }\n",
        "\n",
        "    // TODO: Create a formatted burger special name\n",
        "    // Should capitalize first letter of ingredient and add \"Bob's Special\" to the end\n",
        "    // Example: \"mushroom\" becomes \"Mushroom Bob's Special\"\n",
        "    public static String createSpecialName(String ingredient) {\n",
        "        // Your code here\n",
        "    }\n",
        "\n",
        "    // TODO: Extract the main ingredient from a full burger name\n",
        "    // Burger names follow pattern: \"The [INGREDIENT] Spectacular Burger\"\n",
        "    // Return just the ingredient part in lowercase\n",
        "    // Example: \"The Mushroom Spectacular Burger\" should return \"mushroom\"\n",
        "    public static String extractIngredient(String fullName) {\n",
        "        // Your code here\n",
        "        // Hint: Use indexOf() to find \"The \" and \" Spectacular\"\n",
        "        // Then use substring() to get the part between them\n",
        "        // Don't forget to convert to lowercase!\n",
        "    }\n",
        "\n",
        "    // TODO: Count how many times a specific letter appears in a burger name\n",
        "    // This helps Bob avoid names with too many repeated sounds\n",
        "    public static int countLetter(String burgerName, char letter) {\n",
        "        // Your code here\n",
        "        // Hint: Use a loop and charAt() to check each character\n",
        "        // Convert both the burger name and the letter to lowercase for comparison\n",
        "    }\n",
        "\n",
        "    public static void main(String[] args) {\n",
        "        // Test your functions here\n",
        "        System.out.println(\"Valid name? \" + isValidMenuName(\"The Incredible Burger\"));\n",
        "        System.out.println(\"Special: \" + createSpecialName(\"bacon\"));\n",
        "        System.out.println(\"Ingredient: \" + extractIngredient(\"The Mushroom Spectacular Burger\"));\n",
        "        System.out.println(\"Letter count: \" + countLetter(\"Cheeseburger\", 'e'));\n",
        "\n",
        "\n",
        "    }\n",
        "}"
      ],
      "metadata": {
        "id": "JUySkpHWFcNc",
        "outputId": "0963ecc5-8df7-4555-d611-e6f029454a9c",
        "colab": {
          "base_uri": "https://localhost:8080/"
        }
      },
      "execution_count": null,
      "outputs": [
        {
          "output_type": "stream",
          "name": "stdout",
          "text": [
            "Writing MenuGenerator.java\n"
          ]
        }
      ]
    },
    {
      "cell_type": "code",
      "source": [
        "!javac MenuGenerator.java\n",
        "!MenuGenerator"
      ],
      "metadata": {
        "id": "FtmkFaVXFdcF",
        "outputId": "94aedf2c-a180-4655-8da5-ee3b67f9b2de",
        "colab": {
          "base_uri": "https://localhost:8080/"
        }
      },
      "execution_count": null,
      "outputs": [
        {
          "output_type": "stream",
          "name": "stdout",
          "text": [
            "MenuGenerator.java:5: error: missing return statement\n",
            "    }\n",
            "    ^\n",
            "MenuGenerator.java:12: error: missing return statement\n",
            "    }\n",
            "    ^\n",
            "MenuGenerator.java:23: error: missing return statement\n",
            "    }\n",
            "    ^\n",
            "MenuGenerator.java:31: error: missing return statement\n",
            "    }\n",
            "    ^\n",
            "4 errors\n",
            "/bin/bash: line 1: MenuGenerator: command not found\n"
          ]
        }
      ]
    },
    {
      "cell_type": "markdown",
      "source": [
        "### Combining Multiple Functions 🔗\n",
        "\n",
        "Just like Bob's restaurant staff work together - Bob cooks, Linda serves, and Tina takes orders - functions can work together too! When functions call other functions, we create powerful, organized programs.\n",
        "\n",
        "\n",
        "Think of it like a restaurant hierarchy:\n",
        "- The **main** function is like the restaurant manager\n",
        "- It calls **helper functions** to do specific jobs\n",
        "- Those functions might call **other functions** for smaller tasks\n",
        "\n",
        "#### Simple Example: Order Processing Chain\n",
        "\n",
        "```java\n",
        "// Calculate base price\n",
        "public static double getBasePrice(String burger) {\n",
        "    if (burger.equals(\"Classic\")) return 8.99;\n",
        "    if (burger.equals(\"Cheese\")) return 9.99;\n",
        "    if (burger.equals(\"Deluxe\")) return 12.99;\n",
        "    return 0.0;\n",
        "}\n",
        "\n",
        "// Add extras to price\n",
        "public static double addExtras(double basePrice, boolean addBacon, boolean addAvocado) {\n",
        "    if (addBacon) basePrice = basePrice + 2.00;\n",
        "    if (addAvocado) basePrice = basePrice + 1.50;\n",
        "    return basePrice;\n",
        "}\n",
        "\n",
        "// Calculate final price with tax\n",
        "public static double calculateFinalPrice(double price) {\n",
        "    double tax = price * 0.08;\n",
        "    return price + tax;\n",
        "}\n",
        "\n",
        "// Master function that uses all the others!\n",
        "public static double processOrder(String burger, boolean bacon, boolean avocado) {\n",
        "    double base = getBasePrice(burger);           // Call function 1\n",
        "    double withExtras = addExtras(base, bacon, avocado);  // Call function 2  \n",
        "    double finalPrice = calculateFinalPrice(withExtras);   // Call function 3\n",
        "    return finalPrice;\n",
        "}\n",
        "```\n",
        "\n",
        "Notice how `processOrder` orchestrates the other functions, calling them in the right order!\n"
      ],
      "metadata": {
        "id": "wsPkN3OJL5rI"
      }
    },
    {
      "cell_type": "markdown",
      "source": [
        "#### Why Functions Calling Functions is Powerful:\n",
        "\n",
        "1. **Divide and Conquer**: Break complex problems into smaller pieces\n",
        "2. **Reusability**: Each small function can be used in many places\n",
        "3. **Testing**: Easy to test each function independently\n",
        "4. **Readability**: The main logic reads like a story\n",
        "5. **Maintenance**: Fix bugs in one place, not everywhere\n",
        "\n",
        "#### The Restaurant Analogy:\n",
        "```java\n",
        "// Just like a restaurant:\n",
        "public static void serveCustomer(String order) {\n",
        "    takeOrder(order);        // Tina's job\n",
        "    cookFood(order);         // Bob's job\n",
        "    serveFood(order);        // Linda's job\n",
        "    processPayment(order);   // Louise's job\n",
        "}\n",
        "```\n",
        "\n",
        "Each function does its specific job, and together they accomplish the bigger goal!\n",
        "\n",
        "#### Best Practices:\n",
        "\n",
        "1. **Keep functions focused**: Each should do ONE thing well\n",
        "2. **Use descriptive names**: `calculateTax()` not `calc()`\n",
        "3. **Order matters**: Call functions in logical sequence\n",
        "4. **Don't go too deep**: If you're calling functions within functions within functions, simplify!\n",
        "\n",
        "**Key Insight**: Complex programs are just simple functions working together. Like Bob's family running the restaurant, each function has a role, and they cooperate to serve customers!\n",
        "\n",
        "**Think About It**: How would you organize functions to handle a complete restaurant day - from opening, to serving customers, to closing?"
      ],
      "metadata": {
        "id": "qWEICriBL-2J"
      }
    },
    {
      "cell_type": "markdown",
      "source": [
        "## Recursive Functions: When Functions Call Themselves 🔁\n",
        "\n",
        "Sometimes in Bob's restaurant, tasks need to be repeated in a pattern that gets smaller each time. Like counting down inventory, or calculating the total value of stacked burger boxes. This is where **recursive functions** come in handy!\n",
        "\n",
        "Recursion is when a function calls itself to solve a smaller version of the same problem. Think of it like Bob's approach to cleaning a tall stack of dirty plates:\n",
        "\n",
        "1. Clean the top plate\n",
        "2. If there are more plates, repeat the process with the remaining stack\n",
        "3. If no plates left, you're done!\n",
        "\n",
        "Each time, the problem gets smaller (fewer plates) until it's so simple it can be solved directly.\n",
        "\n",
        "Every recursive function needs TWO cases:\n",
        "\n",
        "1. **Base Case**: When to stop calling itself (like \"no more plates\")\n",
        "2. **Recursive Case**: How to make the problem smaller and call itself again\n",
        "\n",
        "### Simple Example: Counting Down\n",
        "\n",
        "Let's help Bob count down the seconds until the restaurant closes:\n",
        "\n",
        "```java\n",
        "public static void countDown(int seconds) {\n",
        "    // BASE CASE: Stop when we reach 0\n",
        "    if (seconds == 0) {\n",
        "        System.out.println(\"We're closed!\");\n",
        "        return;\n",
        "    }\n",
        "    \n",
        "    // RECURSIVE CASE: Print current number and count down from one less\n",
        "    System.out.println(seconds + \" seconds until closing\");\n",
        "    countDown(seconds - 1);  // Function calls itself with smaller number\n",
        "}\n",
        "```\n",
        "\n",
        "When you call `countDown(3)`, here's what happens:\n",
        "- `countDown(3)` prints \"3 seconds\" and calls `countDown(2)`\n",
        "- `countDown(2)` prints \"2 seconds\" and calls `countDown(1)`  \n",
        "- `countDown(1)` prints \"1 seconds\" and calls `countDown(0)`\n",
        "- `countDown(0)` prints \"We're closed!\" and stops\n",
        "\n",
        "### Mathematical Example: Factorial\n",
        "\n",
        "Bob needs to calculate how many ways he can arrange his daily specials. This uses factorial, which is perfect for recursion:\n",
        "\n",
        "```java\n",
        "public static int factorial(int n) {\n",
        "    // BASE CASE: 1! = 1 and 0! = 1\n",
        "    if (n <= 1) {\n",
        "        return 1;\n",
        "    }\n",
        "    \n",
        "    // RECURSIVE CASE: n! = n × (n-1)!\n",
        "    return n * factorial(n - 1);\n",
        "}\n",
        "```\n",
        "\n",
        "To calculate `factorial(4)`:\n",
        "- `factorial(4)` returns `4 * factorial(3)`\n",
        "- `factorial(3)` returns `3 * factorial(2)`  \n",
        "- `factorial(2)` returns `2 * factorial(1)`\n",
        "- `factorial(1)` returns `1` (base case)\n",
        "- Working backward: `2 * 1 = 2`, then `3 * 2 = 6`, then `4 * 6 = 24`\n",
        "\n",
        "### Practical Example: Calculating Total Inventory Value\n",
        "\n",
        "Bob stores burger boxes in stacks, and each stack can contain more stacks. Let's calculate the total value recursively:\n",
        "\n"
      ],
      "metadata": {
        "id": "fFAjBk04DEV_"
      }
    },
    {
      "cell_type": "code",
      "source": [
        "%%writefile InventoryCalculator.java\n",
        "public class InventoryCalculator {\n",
        "    // Calculate total value of all boxes in a stack\n",
        "    public static double calculateStackValue(int boxCount, double valuePerBox) {\n",
        "        // BASE CASE: No boxes means no value\n",
        "        if (boxCount == 0) {\n",
        "            return 0.0;\n",
        "        }\n",
        "\n",
        "        // RECURSIVE CASE: Value of one box plus value of remaining boxes\n",
        "        return valuePerBox + calculateStackValue(boxCount - 1, valuePerBox);\n",
        "    }\n",
        "\n",
        "    public static void main(String[] args) {\n",
        "        double totalValue = calculateStackValue(5, 12.99);\n",
        "        System.out.println(\"Total inventory value: $\" + totalValue);\n",
        "    }\n",
        "}"
      ],
      "metadata": {
        "colab": {
          "base_uri": "https://localhost:8080/"
        },
        "id": "WWz685gTDLKH",
        "outputId": "f6a76171-4c7c-4152-a7b6-eb3c97cc75f3"
      },
      "execution_count": null,
      "outputs": [
        {
          "output_type": "stream",
          "name": "stdout",
          "text": [
            "Writing InventoryCalculator.java\n"
          ]
        }
      ]
    },
    {
      "cell_type": "code",
      "source": [
        "!javac InventoryCalculator.java\n",
        "!java InventoryCalculator"
      ],
      "metadata": {
        "colab": {
          "base_uri": "https://localhost:8080/"
        },
        "id": "z8EP_88WDQQn",
        "outputId": "e01d88b0-c791-41a5-b4e7-d545dfa5c5ca"
      },
      "execution_count": null,
      "outputs": [
        {
          "output_type": "stream",
          "name": "stdout",
          "text": [
            "Total inventory value: $64.95\n"
          ]
        }
      ]
    },
    {
      "cell_type": "markdown",
      "source": [
        "### When to Use Recursion\n",
        "\n",
        "Recursion works well for problems that:\n",
        "- Can be broken into smaller versions of the same problem\n",
        "- Have a clear stopping point (base case)\n",
        "- Follow a pattern that repeats\n",
        "\n",
        "**Examples where recursion helps:**\n",
        "- Mathematical calculations (factorials, Fibonacci)\n",
        "- Processing nested structures (like file folders)\n",
        "- Countdown timers\n",
        "- Calculating compound interest over multiple years\n",
        "\n",
        "\n",
        "**Mistake: Missing Base Case:**\n",
        "```java\n",
        "// BAD - This never stops!\n",
        "public static int badCount(int n) {\n",
        "    return n + badCount(n - 1);  // No base case = infinite loop!\n",
        "}\n",
        "```\n",
        "\n",
        "**Mistake Wrong Base Case:**\n",
        "```java\n",
        "// BAD - Never reaches base case\n",
        "public static int wrongBase(int n) {\n",
        "    if (n == 0) return 1;\n",
        "    return n + wrongBase(n + 1);  // Goes UP instead of down!\n",
        "}\n",
        "```\n",
        "\n",
        "### Key Takeaways\n",
        "\n",
        "✅ **Every recursive function needs a base case** - when to stop calling itself  \n",
        "✅ **Each recursive call should make the problem smaller** - move toward the base case  \n",
        "✅ **Start simple** - countdown and factorial are perfect first examples  \n",
        "✅ **Think of it like instructions that repeat** - like Bob's plate-cleaning process"
      ],
      "metadata": {
        "id": "xJ22zADgDI0O"
      }
    },
    {
      "cell_type": "markdown",
      "source": [
        "## The Complete Order System 🏪\n",
        "\n",
        "Now let's combine everything we've learned to build a complete order management system for Bob's Burgers. We'll build it step by step, then see how all the pieces work together.\n",
        "\n",
        "### Step 1: Basic Menu Functions\n",
        "\n",
        "First, we need functions to handle menu items and pricing:\n",
        "\n",
        "```java\n",
        "// Get the price for a menu item\n",
        "public static double getPrice(String item) {\n",
        "    if (item.equals(\"Classic\")) return 8.99;\n",
        "    if (item.equals(\"Cheese\")) return 9.99;\n",
        "    if (item.equals(\"Deluxe\")) return 12.99;\n",
        "    return 0.0; // Invalid item\n",
        "}\n",
        "\n",
        "// Check if an item exists on our menu\n",
        "public static boolean isValidItem(String item) {\n",
        "    return getPrice(item) > 0;\n",
        "}\n",
        "```\n",
        "\n",
        "### Step 2: Customer and Discount Logic\n",
        "\n",
        "Next, we add customer recognition and discounts:\n",
        "\n",
        "```java\n",
        "// Determine discount rate based on customer type\n",
        "public static double getDiscountRate(String customerType) {\n",
        "    if (customerType.equals(\"Kids\")) return 0.50;      // 50% off\n",
        "    if (customerType.equals(\"Senior\")) return 0.20;    // 20% off\n",
        "    if (customerType.equals(\"Regular\")) return 0.10;   // 10% off\n",
        "    return 0.0; // No discount for new customers\n",
        "}\n",
        "\n",
        "// Generate a personalized greeting\n",
        "public static String greetCustomer(String name, String type) {\n",
        "    if (type.equals(\"Regular\")) {\n",
        "        return \"Welcome back, \" + name + \"!\";\n",
        "    }\n",
        "    return \"Welcome to Bob's Burgers, \" + name + \"!\";\n",
        "}\n",
        "```\n",
        "\n",
        "### Step 3: Order Processing\n",
        "\n",
        "Finally, we create functions that tie everything together:\n",
        "\n",
        "```java\n",
        "// Calculate total for an order with discounts and tax\n",
        "public static double calculateTotal(String[] items, String customerType) {\n",
        "    double subtotal = 0;\n",
        "    \n",
        "    // Add up all item prices\n",
        "    for (String item : items) {\n",
        "        subtotal += getPrice(item);\n",
        "    }\n",
        "    \n",
        "    // Apply discount\n",
        "    double discount = subtotal * getDiscountRate(customerType);\n",
        "    double afterDiscount = subtotal - discount;\n",
        "    \n",
        "    // Add 8% tax\n",
        "    return afterDiscount * 1.08;\n",
        "}\n",
        "```\n",
        "\n",
        "### The Complete System\n",
        "\n",
        "Here's how all these functions work together in a complete, runnable program:"
      ],
      "metadata": {
        "id": "NpT3nvMISW1N"
      }
    },
    {
      "cell_type": "code",
      "source": [
        "%%writefile BobsOrderSystem.java\n",
        "public class BobsOrderSystem {\n",
        "    public static double getPrice(String item) {\n",
        "        if (item.equals(\"Classic\")) return 8.99;\n",
        "        if (item.equals(\"Cheese\")) return 9.99;\n",
        "        if (item.equals(\"Deluxe\")) return 12.99;\n",
        "        return 0.0;\n",
        "    }\n",
        "\n",
        "    public static double getDiscountRate(String customerType) {\n",
        "        if (customerType.equals(\"Kids\")) return 0.50;\n",
        "        if (customerType.equals(\"Senior\")) return 0.20;\n",
        "        if (customerType.equals(\"Regular\")) return 0.10;\n",
        "        return 0.0;\n",
        "    }\n",
        "\n",
        "    public static String greetCustomer(String name, String type) {\n",
        "        if (type.equals(\"Regular\")) {\n",
        "            return \"Welcome back, \" + name + \"!\";\n",
        "        }\n",
        "        return \"Welcome to Bob's Burgers, \" + name + \"!\";\n",
        "    }\n",
        "\n",
        "    public static double calculateTotal(String[] items, String customerType) {\n",
        "        double subtotal = 0;\n",
        "        for (String item : items) {\n",
        "            subtotal += getPrice(item);\n",
        "        }\n",
        "        double discount = subtotal * getDiscountRate(customerType);\n",
        "        return (subtotal - discount) * 1.08; // Apply discount, then tax\n",
        "    }\n",
        "\n",
        "    public static void main(String[] args) {\n",
        "        // Process a regular customer's order\n",
        "        String[] teddyOrder = {\"Classic\", \"Cheese\"};\n",
        "        System.out.println(greetCustomer(\"Teddy\", \"Regular\"));\n",
        "        System.out.println(\"Total: $\" + calculateTotal(teddyOrder, \"Regular\"));\n",
        "\n",
        "        // Process a kids order\n",
        "        String[] kidsOrder = {\"Classic\"};\n",
        "        System.out.println(\"\\n\" + greetCustomer(\"Billy\", \"Kids\"));\n",
        "        System.out.println(\"Total: $\" + calculateTotal(kidsOrder, \"Kids\"));\n",
        "    }\n",
        "}\n"
      ],
      "metadata": {
        "colab": {
          "base_uri": "https://localhost:8080/"
        },
        "id": "xGRk-OjvSdhP",
        "outputId": "87240b45-35b3-4c3d-d0f3-fca079788b1e"
      },
      "execution_count": null,
      "outputs": [
        {
          "output_type": "stream",
          "name": "stdout",
          "text": [
            "Writing BobsOrderSystem.java\n"
          ]
        }
      ]
    },
    {
      "cell_type": "code",
      "source": [
        "!javac BobsOrderSystem.java\n",
        "!java BobsOrderSystem"
      ],
      "metadata": {
        "colab": {
          "base_uri": "https://localhost:8080/"
        },
        "id": "RRW2xLv_SkeG",
        "outputId": "fef67ae2-32d4-47fe-9308-a9ae7e57ec2b"
      },
      "execution_count": null,
      "outputs": [
        {
          "output_type": "stream",
          "name": "stdout",
          "text": [
            "Welcome back, Teddy!\n",
            "Total: $18.44856\n",
            "\n",
            "Welcome to Bob's Burgers, Billy!\n",
            "Total: $4.8546000000000005\n"
          ]
        }
      ]
    },
    {
      "cell_type": "markdown",
      "source": [
        "\n",
        "### How the Functions Collaborate\n",
        "\n",
        "Notice how the functions work together like a restaurant team:\n",
        "\n",
        "1. **greetCustomer()** - Like the host welcoming people\n",
        "2. **getPrice()** - Like checking the menu for prices  \n",
        "3. **getDiscountRate()** - Like applying loyalty card benefits\n",
        "4. **calculateTotal()** - Like the cashier computing the final bill\n",
        "\n",
        "Each function has one clear job, but together they handle the complete customer experience. This is the power of breaking complex problems into simple, focused functions.\n",
        "\n",
        "**Key insight:** Professional programs are built exactly this way - small, reliable functions that work together to accomplish bigger goals. You've just built a real restaurant management system!"
      ],
      "metadata": {
        "id": "Wjg72R7pSYpH"
      }
    },
    {
      "cell_type": "markdown",
      "source": [
        "### More Practice With Functions\n",
        "Run the following cell to get some more practice with writing functions."
      ],
      "metadata": {
        "id": "5n_rB-_6IQao"
      }
    },
    {
      "cell_type": "code",
      "source": [
        "!wget https://github.com/brendanpshea/programming_problem_solving/raw/main/java_autograde/java_tool.py -q -nc\n",
        "from java_tool import *\n",
        "java_tool = JavaPracticeTool(json_url=\"https://github.com/brendanpshea/programming_problem_solving/raw/main/java_autograde/two_parameter_functions.json\")"
      ],
      "metadata": {
        "id": "qVoADgVnIcJp"
      },
      "execution_count": null,
      "outputs": []
    },
    {
      "cell_type": "markdown",
      "source": [
        "## Final Challenge: Expanding Bob's Order System 🎯\n",
        "\n",
        "You've built a working order system for Bob's Burgers! Now it's time to expand it with new features. You can use the code in the previous section to get started.\n",
        "\n",
        "### Challenge 1: Order Validation\n",
        "**Problem:** Currently, customers can order items that don't exist, and the system charges them $0.00.\n",
        "\n",
        "**Your Task:**\n",
        "- Write a function `validateOrder(String[] items)` that returns `true` only if ALL items exist on the menu\n",
        "- Update your main method to validate orders before processing them\n",
        "- When an order is invalid, print which specific items aren't available\n",
        "- Test it with invalid items!\n",
        "\n",
        "**Expected Output:**\n",
        "```\n",
        "Welcome back, Teddy!\n",
        "Sorry, we don't have: Lobster Roll\n",
        "Please check our menu and try again.\n",
        "```\n",
        "\n",
        "### Challenge 2: Simple Receipt Display\n",
        "**Problem:** Customers want to see what they're paying for, not just a total.\n",
        "\n",
        "**Your Task:**\n",
        "- Write a function `printOrderSummary(String[] items, String customerType)` that displays each item and its price\n",
        "- Show the subtotal, any discount applied, and final total after tax\n",
        "- This should print directly (void function), not return a string\n",
        "- To test it, just call it from main\n",
        "\n",
        "**Expected Output:**\n",
        "```\n",
        "=== ORDER SUMMARY ===\n",
        "Classic Burger: $8.99\n",
        "Cheese Burger: $9.99\n",
        "Subtotal: $18.98\n",
        "Regular Customer Discount: $1.90\n",
        "Final Total: $17.08\n",
        "```\n",
        "\n",
        "### Challenge 3: Delivery Fee Calculator\n",
        "**Problem:** Bob started offering delivery but needs to calculate delivery fees based on distance.\n",
        "\n",
        "**Your Task:**\n",
        "- Write a function `getDeliveryFee(double miles)` that returns:\n",
        "  - \\$0.00 for distances under 2 miles\n",
        "  - \\$2.99 for distances 2-5 miles  \n",
        "  - \\$4.99 for distances over 5 miles\n",
        "- Update `calculateTotal()` to include delivery fee when needed\n",
        "- Test with different distances in your main method\n",
        "\n",
        "**Expected Output:**\n",
        "```\n",
        "Teddy's order (3.2 miles away):\n",
        "Food total: $18.45\n",
        "Delivery fee: $2.99\n",
        "Grand total: $21.44\n",
        "```\n"
      ],
      "metadata": {
        "id": "iJ3wpEBqTTa4"
      }
    },
    {
      "cell_type": "code",
      "source": [
        "%%writefile BobsImprovedOrderSystem.java\n",
        "\n",
        "// To start, this is the same as the original order system.\n",
        "\n",
        "public class BobsImprovedOrderSystem {\n",
        "    public static double getPrice(String item) {\n",
        "        if (item.equals(\"Classic\")) return 8.99;\n",
        "        if (item.equals(\"Cheese\")) return 9.99;\n",
        "        if (item.equals(\"Deluxe\")) return 12.99;\n",
        "        return 0.0;\n",
        "    }\n",
        "\n",
        "    public static double getDiscountRate(String customerType) {\n",
        "        if (customerType.equals(\"Kids\")) return 0.50;\n",
        "        if (customerType.equals(\"Senior\")) return 0.20;\n",
        "        if (customerType.equals(\"Regular\")) return 0.10;\n",
        "        return 0.0;\n",
        "    }\n",
        "\n",
        "    public static String greetCustomer(String name, String type) {\n",
        "        if (type.equals(\"Regular\")) {\n",
        "            return \"Welcome back, \" + name + \"!\";\n",
        "        }\n",
        "        return \"Welcome to Bob's Burgers, \" + name + \"!\";\n",
        "    }\n",
        "\n",
        "    public static double calculateTotal(String[] items, String customerType) {\n",
        "        double subtotal = 0;\n",
        "        for (String item : items) {\n",
        "            subtotal += getPrice(item);\n",
        "        }\n",
        "        double discount = subtotal * getDiscountRate(customerType);\n",
        "        return (subtotal - discount) * 1.08; // Apply discount, then tax\n",
        "    }\n",
        "\n",
        "    public static void main(String[] args) {\n",
        "        // Process a regular customer's order\n",
        "        String[] teddyOrder = {\"Classic\", \"Cheese\"};\n",
        "        System.out.println(greetCustomer(\"Teddy\", \"Regular\"));\n",
        "        System.out.println(\"Total: $\" + calculateTotal(teddyOrder, \"Regular\"));\n",
        "\n",
        "        // Process a kids order\n",
        "        String[] kidsOrder = {\"Classic\"};\n",
        "        System.out.println(\"\\n\" + greetCustomer(\"Billy\", \"Kids\"));\n",
        "        System.out.println(\"Total: $\" + calculateTotal(kidsOrder, \"Kids\"));\n",
        "    }\n",
        "}\n"
      ],
      "metadata": {
        "colab": {
          "base_uri": "https://localhost:8080/"
        },
        "id": "2cWOi7oTthqF",
        "outputId": "0d773656-2501-4625-9b4f-91a06a78d092"
      },
      "execution_count": null,
      "outputs": [
        {
          "output_type": "stream",
          "name": "stdout",
          "text": [
            "Writing BobsImprovedOrderSystem.java\n"
          ]
        }
      ]
    },
    {
      "cell_type": "code",
      "source": [
        "!javac BobsImprovedOrderSystem.java\n",
        "!java BobsImprovedOrderSystem"
      ],
      "metadata": {
        "colab": {
          "base_uri": "https://localhost:8080/"
        },
        "id": "j5Js2p-ctqzb",
        "outputId": "ff7a15b4-7bfd-4c93-ea79-c683cf7b9929"
      },
      "execution_count": null,
      "outputs": [
        {
          "output_type": "stream",
          "name": "stdout",
          "text": [
            "Welcome back, Teddy!\n",
            "Total: $18.44856\n",
            "\n",
            "Welcome to Bob's Burgers, Billy!\n",
            "Total: $4.8546000000000005\n"
          ]
        }
      ]
    },
    {
      "cell_type": "markdown",
      "source": [
        "### Review Game: Loop of the Recursive Dragon\n",
        "https://brendanpshea.github.io/LotRD/?set=java_04_functions.json"
      ],
      "metadata": {
        "id": "8QwFXp3DO4sd"
      }
    },
    {
      "cell_type": "markdown",
      "source": [
        "### Code Jumbler: Chapter 4\n",
        "\n",
        "https://brendanpshea.github.io/code_jumbler/?problemSet=jumble_04.json"
      ],
      "metadata": {
        "id": "TdyBCEImtG9j"
      }
    },
    {
      "cell_type": "markdown",
      "source": [
        "### Gloosary\n",
        "\n",
        "| Term | Definition |\n",
        "|------|------------|\n",
        "| **Argument** | A value passed to a function when it is called. For example, in `calculateTax(8.99)`, the value 8.99 is this. |\n",
        "| **break** | A statement that immediately exits a loop or switch statement. For example, stopping a search loop once the target item is found. |\n",
        "| **contains()** | A String method that checks if a string contains a specific substring. For example, `burgerName._____(\"Cheese\")` returns true if the name includes \"Cheese\". |\n",
        "| **equals()** | A String method that compares two strings for identical content. For example, `day.______(\"Monday\")` checks if the day variable contains exactly \"Monday\". |\n",
        "| **Function** | A reusable block of code that performs a specific task and may return a value. For example, `calculatePrice()` computes and returns the total cost of an order. |\n",
        "| **Function Body** | The code between the opening and closing braces that contains the instructions the function executes. For example, the calculations and logic inside `{ return price * 1.08; }`. |\n",
        "| **Function Call** | An instruction that executes a specific function with given arguments. For example, `addTax(burgerPrice)` ______ the tax function with a burger price. |\n",
        "| **Function Signature** | The combination of a function's name and its parameter types that uniquely identifies it. For example, `calculateDiscount(double, int)` specifies a function taking a double and integer. |\n",
        "| **indexOf()** | A String method that returns the position of a character or substring within a string. For example, `\"Bob's\"._______(\"'\")` returns 3. |\n",
        "| **length()** | A String method that returns the number of characters in a string. For example, `customerName._______()` gives the count of letters in the name. |\n",
        "| **Local Variable** | A variable declared inside a function that exists only while the function executes. For example, variables created within function braces are not accessible outside. |\n",
        "| **Math.round()** | A method that rounds a decimal number to the nearest whole number. For example, `________(4.7)` returns 5. |\n",
        "| **Method** | Another term for function in Java - a named block of code that performs a specific task.  |\n",
        "| **Overloading** | Having multiple functions with the same name but different parameter types or counts. For example, having both `greet(String name)` and `greet(String name, int age)`. |\n",
        "| **Parameter** | A variable in a function header that receives values when the function is called. For example, `amount` in `calculateTax(double amount)` receives the price value. |\n",
        "| **Recursion** | A programming technique where a function calls itself to solve smaller versions of the same problem. For example, calculating factorial where `factorial(n) = n * factorial(n-1)`. |\n",
        "| **Return Statement** | A statement that sends a value back from a function to the calling code. For example, `________ total * 1.08;` sends back the calculated tax-inclusive amount. |\n",
        "| **Return Type** | The data type that a function promises to send back when called. For example, `double` in the function header indicates it returns a decimal number. |\n",
        "| **Scope** | The region of code where a variable can be accessed. For example, local variables have function scope and cannot be used outside their function. |\n",
        "| **startsWith()** | A String method that checks if a string begins with specified characters. For example, `fileName._________(\"menu\")` checks if the filename begins with \"menu\". |\n",
        "| **String Concatenation** | The process of combining strings using the + operator to create longer text. For example, `\"Welcome \" + customerName + \"!\"` creates a personalized greeting. |\n",
        "| **substring()** | A String method that extracts a portion of a string between specified positions. For example, `\"Bob's\"._________(0, 3)` returns \"Bob\". |\n",
        "| **toLowerCase()** | A String method that converts all characters in a string to lowercase. For example, `\"BURGER\".__________()` returns \"burger\". |\n",
        "| **toUpperCase()** | A String method that converts all characters in a string to uppercase. For example, `\"menu\"._________()` returns \"MENU\". |\n",
        "| **Variable Scope** | The portion of a program where a variable can be accessed and used. For example, parameters and local variables are only accessible within their function. |\n",
        "| **void** | A return type indicating that a function performs actions but doesn't return any value. For example, functions that only print messages use this instead of returning data. |"
      ],
      "metadata": {
        "id": "C3_0cfFIQXfM"
      }
    },
    {
      "cell_type": "code",
      "source": [],
      "metadata": {
        "id": "VfE2udM1RaPx"
      },
      "execution_count": null,
      "outputs": []
    }
  ]
}